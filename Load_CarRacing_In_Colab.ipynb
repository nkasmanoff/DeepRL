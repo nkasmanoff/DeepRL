{
 "cells": [
  {
   "cell_type": "markdown",
   "metadata": {
    "colab_type": "text",
    "id": "view-in-github"
   },
   "source": [
    "<a href=\"https://colab.research.google.com/github/nkasmanoff/DeepRL/blob/master/Load_CarRacing_In_Colab.ipynb\" target=\"_parent\"><img src=\"https://colab.research.google.com/assets/colab-badge.svg\" alt=\"Open In Colab\"/></a>"
   ]
  },
  {
   "cell_type": "markdown",
   "metadata": {
    "id": "prYhQX_dTzVC"
   },
   "source": [
    "This notebook is used to train a DQN on the CarRacing Open AI gym environment, using a GPU, but most importantly, is able to load this environment!"
   ]
  },
  {
   "cell_type": "markdown",
   "metadata": {
    "id": "Oow0rc2iaDZ4"
   },
   "source": [
    "# CoLab Preambles\n",
    "\n",
    "Most of the requirements of python packages are already fulfilled on CoLab. To run Gym, you have to install prerequisites like xvbf,opengl & other python-dev packages using the following codes.\n",
    "\n",
    "[](To be done next time: )\n",
    "[](https://becominghuman.ai/lets-build-an-atari-ai-part-1-dqn-df57e8ff3b26)"
   ]
  },
  {
   "cell_type": "code",
   "execution_count": null,
   "metadata": {
    "colab": {
     "base_uri": "https://localhost:8080/"
    },
    "id": "7wY4qZhPXotR",
    "outputId": "c9b6ddf5-9c56-4eab-b9b6-d86ce88f36bb"
   },
   "outputs": [],
   "source": [
    "!pip install gym\n",
    "!apt-get install python-opengl -y\n",
    "!apt install xvfb -y\n",
    "!pip install pyvirtualdisplay\n",
    "!pip install piglet\n",
    "!pip install gym[box2d]"
   ]
  },
  {
   "cell_type": "markdown",
   "metadata": {
    "id": "giqCoXRwaaH3"
   },
   "source": [
    "For rendering environment, you can use pyvirtualdisplay. So fulfill that "
   ]
  },
  {
   "cell_type": "markdown",
   "metadata": {
    "id": "vUSaUTcgat3F"
   },
   "source": [
    "To activate virtual display we need to run a script once for training an agent, as follows:"
   ]
  },
  {
   "cell_type": "code",
   "execution_count": 1,
   "metadata": {
    "id": "Pn1IAnsDYK4V"
   },
   "outputs": [
    {
     "ename": "ModuleNotFoundError",
     "evalue": "No module named 'pyvirtualdisplay'",
     "output_type": "error",
     "traceback": [
      "\u001b[0;31m---------------------------------------------------------------------------\u001b[0m",
      "\u001b[0;31mModuleNotFoundError\u001b[0m                       Traceback (most recent call last)",
      "\u001b[0;32m<ipython-input-1-5b07d4e1a7d2>\u001b[0m in \u001b[0;36m<module>\u001b[0;34m\u001b[0m\n\u001b[0;32m----> 1\u001b[0;31m \u001b[0;32mfrom\u001b[0m \u001b[0mpyvirtualdisplay\u001b[0m \u001b[0;32mimport\u001b[0m \u001b[0mDisplay\u001b[0m\u001b[0;34m\u001b[0m\u001b[0;34m\u001b[0m\u001b[0m\n\u001b[0m\u001b[1;32m      2\u001b[0m \u001b[0mdisplay\u001b[0m \u001b[0;34m=\u001b[0m \u001b[0mDisplay\u001b[0m\u001b[0;34m(\u001b[0m\u001b[0mvisible\u001b[0m\u001b[0;34m=\u001b[0m\u001b[0;36m0\u001b[0m\u001b[0;34m,\u001b[0m \u001b[0msize\u001b[0m\u001b[0;34m=\u001b[0m\u001b[0;34m(\u001b[0m\u001b[0;36m1400\u001b[0m\u001b[0;34m,\u001b[0m \u001b[0;36m900\u001b[0m\u001b[0;34m)\u001b[0m\u001b[0;34m)\u001b[0m\u001b[0;34m\u001b[0m\u001b[0;34m\u001b[0m\u001b[0m\n\u001b[1;32m      3\u001b[0m \u001b[0mdisplay\u001b[0m\u001b[0;34m.\u001b[0m\u001b[0mstart\u001b[0m\u001b[0;34m(\u001b[0m\u001b[0;34m)\u001b[0m\u001b[0;34m\u001b[0m\u001b[0;34m\u001b[0m\u001b[0m\n\u001b[1;32m      4\u001b[0m \u001b[0;34m\u001b[0m\u001b[0m\n\u001b[1;32m      5\u001b[0m \u001b[0;31m# This code creates a virtual display to draw game images on.\u001b[0m\u001b[0;34m\u001b[0m\u001b[0;34m\u001b[0m\u001b[0;34m\u001b[0m\u001b[0m\n",
      "\u001b[0;31mModuleNotFoundError\u001b[0m: No module named 'pyvirtualdisplay'"
     ]
    }
   ],
   "source": [
    "from pyvirtualdisplay import Display\n",
    "display = Display(visible=0, size=(1400, 900))\n",
    "display.start()\n",
    "\n",
    "# This code creates a virtual display to draw game images on. \n",
    "# If you are running locally, just ignore it\n",
    "import os\n",
    "if type(os.environ.get(\"DISPLAY\")) is not str or len(os.environ.get(\"DISPLAY\"))==0:\n",
    "    !bash ../xvfb start\n",
    "    %env DISPLAY=:1"
   ]
  },
  {
   "cell_type": "code",
   "execution_count": 14,
   "metadata": {
    "colab": {
     "base_uri": "https://localhost:8080/"
    },
    "id": "Jh10T5veI1zk",
    "outputId": "bfe69032-6671-413d-c69d-e1a9a783500a"
   },
   "outputs": [
    {
     "name": "stdout",
     "output_type": "stream",
     "text": [
      "cpu\n"
     ]
    }
   ],
   "source": [
    "import gym\n",
    "from gym import logger as gymlogger\n",
    "from gym.wrappers import Monitor\n",
    "gymlogger.set_level(40) # error only\n",
    "#import tensorflow as tf\n",
    "import numpy as np\n",
    "import random\n",
    "import matplotlib\n",
    "import pandas as pd\n",
    "import matplotlib.pyplot as plt\n",
    "%matplotlib inline\n",
    "import math\n",
    "import glob\n",
    "import io\n",
    "import base64\n",
    "from IPython.display import HTML\n",
    "\n",
    "from IPython import display as ipythondisplay\n",
    "from gym import envs\n",
    "\n",
    "\n",
    "from collections import namedtuple\n",
    "from itertools import count\n",
    "from PIL import Image\n",
    "\n",
    "import torch\n",
    "import torch.nn as nn\n",
    "import torch.optim as optim\n",
    "import torch.nn.functional as F\n",
    "import torchvision.transforms as T\n",
    "\n",
    "device = torch.device(\"cuda\" if torch.cuda.is_available() else \"cpu\")\n",
    "\n",
    "print(device)\n",
    "#% mat"
   ]
  },
  {
   "cell_type": "code",
   "execution_count": 3,
   "metadata": {
    "id": "JWNVK4NUJUCl"
   },
   "outputs": [],
   "source": [
    "\n",
    "def show_video():\n",
    "  mp4list = glob.glob('video/*.mp4')\n",
    "  if len(mp4list) > 0:\n",
    "    mp4 = mp4list[0]\n",
    "    video = io.open(mp4, 'r+b').read()\n",
    "    encoded = base64.b64encode(video)\n",
    "    ipythondisplay.display(HTML(data='''<video alt=\"test\" autoplay \n",
    "                loop controls style=\"height: 400px;\">\n",
    "                <source src=\"data:video/mp4;base64,{0}\" type=\"video/mp4\" />\n",
    "             </video>'''.format(encoded.decode('ascii'))))\n",
    "  else: \n",
    "    print(\"Could not find video\")\n",
    "    \n",
    "\n",
    "def wrap_env(env):\n",
    "    env = Monitor(env, './video', force=True)\n",
    "    return env"
   ]
  },
  {
   "cell_type": "code",
   "execution_count": 4,
   "metadata": {
    "id": "WGkCuxJlZYQu"
   },
   "outputs": [],
   "source": [
    "Transition = namedtuple('Transition',\n",
    "                        ('state', 'action', 'next_state', 'reward'))\n",
    "\n",
    "class ReplayMemory(object):\n",
    "    \"\"\"\n",
    "    Replay buffer, can do saving, sampling, and clearing \n",
    "    \"\"\"\n",
    "\n",
    "    def __init__(self, capacity):\n",
    "        self.capacity = capacity\n",
    "        self.memory = []\n",
    "        self.position = 0\n",
    "\n",
    "    def push(self, *args):\n",
    "        \"\"\"Saves a transition.\"\"\"\n",
    "        if len(self.memory) < self.capacity:\n",
    "            self.memory.append(None)\n",
    "        self.memory[self.position] = Transition(*args)\n",
    "        self.position = (self.position + 1) % self.capacity\n",
    "\n",
    "    def sample(self, batch_size):\n",
    "        return random.sample(self.memory, batch_size)\n",
    "\n",
    "    def __len__(self):\n",
    "        return len(self.memory)"
   ]
  },
  {
   "cell_type": "code",
   "execution_count": 5,
   "metadata": {
    "id": "Nkq2ClM_ZYQ0"
   },
   "outputs": [],
   "source": [
    "class DeepQNetwork(nn.Module):\n",
    "    \"\"\"\n",
    "    Deep Q Network module. \n",
    "    \n",
    "    It instantiates the class optimizer, device, and all the layers used. \n",
    "    \n",
    "    Same architecture as the one used in HW1, since that seemed to learn things!\n",
    "    \n",
    "    \n",
    "    \"\"\"\n",
    "    def __init__(self,lr,in_ch=1,n_actions=7,ch=2):\n",
    "        super(DeepQNetwork,self).__init__()\n",
    "        self.conv1 = nn.Conv2d(in_channels=in_ch,out_channels=ch*8,kernel_size=7)\n",
    "        self.conv2 = nn.Conv2d(in_channels=ch*8,out_channels=ch*16,kernel_size=3,stride=2)\n",
    "        self.conv3 = nn.Conv2d(in_channels=ch*16,out_channels=ch*16,kernel_size=7)\n",
    "        self.conv4 = nn.Conv2d(in_channels=ch*16,out_channels=ch*32,kernel_size=3,stride=2)\n",
    "        self.conv5 = nn.Conv2d(in_channels=ch*32,out_channels=ch*32,kernel_size=7)\n",
    "        self.conv6 = nn.Conv2d(in_channels=ch*32,out_channels=ch*64,kernel_size=3,stride=2)\n",
    "        self.fc1 = nn.Linear(64 * ch * 4 * 4,256)\n",
    "        self.fc2 = nn.Linear(256,n_actions)\n",
    "        self.history_length = in_ch\n",
    "        self.ch = ch\n",
    "\n",
    "        \n",
    "    def forward(self, x):\n",
    "        \n",
    "        #x = torch.Tensor(x).to(self.device) #send to GPU, and make a pytorch obj in case it isn't\n",
    "        x = x.view(-1,self.history_length,x.shape[-2],x.shape[-1]) #proper shape too, in case it wasn't \n",
    "        x = F.relu(self.conv1(x))\n",
    "        x = F.relu(self.conv2(x))\n",
    "        x = F.relu(self.conv3(x))\n",
    "        x = F.relu(self.conv4(x))\n",
    "        x = F.relu(self.conv5(x))\n",
    "        x = F.relu(self.conv6(x))\n",
    "\n",
    "        x = x.view(-1, 64 * self.ch * 4 * 4)\n",
    "        \n",
    "        x = F.relu(self.fc1(x))\n",
    "        a = self.fc2(x)\n",
    "\n",
    "        return a\n",
    "  "
   ]
  },
  {
   "cell_type": "code",
   "execution_count": 6,
   "metadata": {
    "id": "rFZHKLm_ZYQ2"
   },
   "outputs": [],
   "source": [
    "# That's what all these helper functions do. \n",
    "\n",
    "def rgb2gray(rgb):\n",
    "    \"\"\" \n",
    "    converts rgb images to grayscale.\n",
    "    \"\"\"\n",
    "    gray = np.dot(rgb[...,:3], [0.2125, 0.7154, 0.0721])\n",
    "    return gray.astype('float32') \n",
    "\n",
    "def test_preprocess(state):\n",
    "    \"\"\"\n",
    "    Crop, grayscale, and standardize \n",
    "    \"\"\"\n",
    "    state = state[:-12:,6:-6]\n",
    "    state = rgb2gray(state)\n",
    "    state = state / 255\n",
    "    state = state  * 2 - 1\n",
    "    \n",
    "\n",
    "    return state\n",
    "\n",
    "\n",
    "\n",
    "def discretize(action):\n",
    "    \"\"\"\n",
    "    Discrete actions used, so far I've made it so that there are 5 unique actions, and the DQN \n",
    "    selects from these\n",
    "    \"\"\"\n",
    "    \n",
    "    if action  == 0:\n",
    "        # do nothing \n",
    "        return np.array([0,0,0])\n",
    "    if action  == 1:\n",
    "        # glide left \n",
    "        return np.array([-1,0,0])\n",
    "    if action  == 2:\n",
    "        # glide right \n",
    "        return np.array([1,0,0])\n",
    "    if action  == 3:\n",
    "        # accelerate\n",
    "        return np.array([0,1,0])\n",
    "    if action  == 4:\n",
    "        # brake\n",
    "        return np.array([0,0,1])\n",
    "    if action  == 5:\n",
    "        # turn left acc little bit\n",
    "        return np.array([-1,.5,0])\n",
    "    if action == 6:\n",
    "        # turn right acc little bit\n",
    "        return np.array([-1,.5,0])\n",
    "    if action == 7:\n",
    "        return np.array([-5,.25,0])\n",
    "    if action == 8:\n",
    "        return np.array([5,.25,0])\n",
    "    if action == 9:\n",
    "        return np.array([0,.5,0])\n",
    "\n",
    "    if action == 10:\n",
    "        return np.array([1,1,0])\n",
    "    \n",
    "    if action == 11:\n",
    "        return np.array([-1,1,0])\n",
    "\n",
    "\n",
    "\n",
    "\n",
    "\n",
    "\n",
    "def polyak_update(polyak_factor, target_network, network):\n",
    "    for target_param, param in zip(target_network.parameters(), network.parameters()):\n",
    "        target_param.data.copy_(polyak_factor*param.data + target_param.data*(1.0 - polyak_factor))\n"
   ]
  },
  {
   "cell_type": "markdown",
   "metadata": {
    "id": "yBE73s9WZYQ5"
   },
   "source": [
    "# Training Loop"
   ]
  },
  {
   "cell_type": "code",
   "execution_count": 15,
   "metadata": {
    "id": "6JywS3JNZYRC"
   },
   "outputs": [],
   "source": [
    "BATCH_SIZE = 256\n",
    "GAMMA = 0.99\n",
    "EPS_START = 0.99\n",
    "EPS_END = 0.05\n",
    "EPS_DECAY = 200\n",
    "#TARGET_UPDATE = 500\n",
    "ALPHA = .00005# = 3\n",
    "CH = 2 # model capacity\n",
    "RENDER = False\n",
    "n_actions = 12 # I designate this, not the action space\n",
    "POLYAK_FACTOR = 0.01\n",
    "IN_CH = 1\n",
    "\n"
   ]
  },
  {
   "cell_type": "code",
   "execution_count": 16,
   "metadata": {
    "colab": {
     "base_uri": "https://localhost:8080/"
    },
    "id": "d4kreB8MZYQ6",
    "outputId": "aed543d5-3430-41ba-cf89-d986dbbc53bb"
   },
   "outputs": [
    {
     "name": "stdout",
     "output_type": "stream",
     "text": [
      "[Errno 2] No such file or directory: 'ckpt.pt'\n"
     ]
    },
    {
     "data": {
      "text/plain": [
       "DeepQNetwork(\n",
       "  (conv1): Conv2d(1, 16, kernel_size=(7, 7), stride=(1, 1))\n",
       "  (conv2): Conv2d(16, 32, kernel_size=(3, 3), stride=(2, 2))\n",
       "  (conv3): Conv2d(32, 32, kernel_size=(7, 7), stride=(1, 1))\n",
       "  (conv4): Conv2d(32, 64, kernel_size=(3, 3), stride=(2, 2))\n",
       "  (conv5): Conv2d(64, 64, kernel_size=(7, 7), stride=(1, 1))\n",
       "  (conv6): Conv2d(64, 128, kernel_size=(3, 3), stride=(2, 2))\n",
       "  (fc1): Linear(in_features=2048, out_features=256, bias=True)\n",
       "  (fc2): Linear(in_features=256, out_features=12, bias=True)\n",
       ")"
      ]
     },
     "execution_count": 16,
     "metadata": {},
     "output_type": "execute_result"
    }
   ],
   "source": [
    "policy_net = DeepQNetwork(lr=ALPHA,in_ch=IN_CH,n_actions=n_actions,ch=CH).to(device)\n",
    "target_net = DeepQNetwork(lr=ALPHA,in_ch=IN_CH,n_actions=n_actions,ch=CH).to(device)\n",
    "target_net.load_state_dict(policy_net.state_dict())\n",
    "target_net.eval()\n",
    "\n",
    "try:\n",
    "    torch.load('ckpt.pt',policy_net)\n",
    "    print(\"Loaded from checkpoint\")\n",
    "except Exception as e:\n",
    "    print(e)\n",
    "    \n",
    "target_net.load_state_dict(policy_net.state_dict())\n",
    "target_net.eval()"
   ]
  },
  {
   "cell_type": "code",
   "execution_count": 17,
   "metadata": {
    "id": "IDPHXPXeZYQ8"
   },
   "outputs": [
    {
     "name": "stdout",
     "output_type": "stream",
     "text": [
      "[Errno 2] No such file or directory: 'memory.txt'\n"
     ]
    }
   ],
   "source": [
    "optimizer = optim.Adam(policy_net.parameters()) # what to train with\n",
    "memory = ReplayMemory(10000) # initizalize replay \n",
    "\n",
    "import pickle\n",
    "try:\n",
    "    with open(\"memory.txt\", \"rb\") as fp:   # Unpickling\n",
    "        memory.memory = pickle.load(fp)\n",
    "except Exception as e:\n",
    "    print(e)\n",
    "# can I load in the old memeorY? "
   ]
  },
  {
   "cell_type": "code",
   "execution_count": 18,
   "metadata": {
    "id": "neATUMzLZYQ_"
   },
   "outputs": [
    {
     "name": "stdout",
     "output_type": "stream",
     "text": [
      "couldnt find current steps, this must be first \n"
     ]
    }
   ],
   "source": [
    "steps_done = 0\n",
    "try:\n",
    "    steps_done = np.load('current_steps.npy')\n",
    "except:\n",
    "    print('couldnt find current steps, this must be first ')\n",
    "    steps_done = 0\n",
    "\n",
    "def select_action(state,greedy=False):\n",
    "    \"\"\"\n",
    "    Given an input state, chose an action either via epsilon decay, \n",
    "    or what the policy net likes\n",
    "    \"\"\"\n",
    "    global steps_done\n",
    "\n",
    "    if greedy:\n",
    "        with torch.no_grad():\n",
    "            # t.max(1) will return largest column value of each row.\n",
    "            # second column on max result is index of where max element was\n",
    "            # found, so we pick action with the larger expected reward.\n",
    "            return policy_net(state.to(device)).max(1)[1].view(1, 1)\n",
    "    sample = random.random()\n",
    "    eps_threshold = EPS_END + (EPS_START - EPS_END) * \\\n",
    "        math.exp(-1. * steps_done / EPS_DECAY)\n",
    "    steps_done += 1\n",
    "    if sample > eps_threshold:\n",
    "       # print(\"policy choice\")\n",
    "        with torch.no_grad():\n",
    "            # t.max(1) will return largest column value of each row.\n",
    "            # second column on max result is index of where max element was\n",
    "            # found, so we pick action with the larger expected reward.\n",
    "            return policy_net(state.to(device)).max(1)[1].view(1, 1), eps_threshold\n",
    "    else:\n",
    "       # print(\"Eps dec \")\n",
    "        return torch.tensor([[random.randrange(n_actions)]], dtype=torch.long).to(device),eps_threshold\n"
   ]
  },
  {
   "cell_type": "code",
   "execution_count": 19,
   "metadata": {
    "id": "J6JOZ-7sZYRA"
   },
   "outputs": [],
   "source": [
    "\n",
    "\n",
    "def optimize_model():\n",
    "    \"\"\"\n",
    "    Completes a single step of the optimization. Samples a batch, computes \n",
    "    Q and r + maxQ, and takes the gradient step to bring those closer together. \n",
    "    \"\"\"\n",
    "    if len(memory) < BATCH_SIZE:\n",
    "        return\n",
    "    transitions = memory.sample(BATCH_SIZE)\n",
    "    # Transpose the batch (see https://stackoverflow.com/a/19343/3343043 for\n",
    "    # detailed explanation). This converts batch-array of Transitions\n",
    "    # to Transition of batch-arrays.\n",
    "    batch = Transition(*zip(*transitions))\n",
    "\n",
    "    # Compute a mask of non-final states and concatenate the batch elements\n",
    "    # (a final state would've been the one after which simulation ended)\n",
    "    non_final_mask = torch.tensor(tuple(map(lambda s: s is not None,\n",
    "                                          batch.next_state)), dtype=torch.bool).to(device)\n",
    "    non_final_next_states = torch.cat([s for s in batch.next_state\n",
    "                                                if s is not None]).to(device)\n",
    "    state_batch = torch.cat(batch.state).to(device)\n",
    "    action_batch = torch.cat(batch.action).to(device)\n",
    "    reward_batch = torch.cat(batch.reward).to(device)\n",
    "\n",
    "    # Compute Q(s_t, a) - the model computes Q(s_t), then we select the\n",
    "    # columns of actions taken. These are the actions which would've been taken\n",
    "    # for each batch state according to policy_net\n",
    "    state_action_values = policy_net(state_batch).gather(1, action_batch)\n",
    "\n",
    "    # Compute V(s_{t+1}) for all next states.\n",
    "    # Expected values of actions for non_final_next_states are computed based\n",
    "    # on the \"older\" target_net; selecting their best reward with max(1)[0].\n",
    "    # This is merged based on the mask, such that we'll have either the expected\n",
    "    # state value or 0 in case the state was final.\n",
    "    next_state_values = torch.zeros(BATCH_SIZE, device=device)\n",
    "    next_state_values[non_final_mask] = target_net(non_final_next_states).max(1)[0].detach()\n",
    "    # Compute the expected Q values\n",
    "    expected_state_action_values = (next_state_values * GAMMA) + reward_batch\n",
    "\n",
    "    # Compute Huber loss\n",
    "    loss = F.smooth_l1_loss(state_action_values, expected_state_action_values.unsqueeze(1))\n",
    "\n",
    "    # Optimize the model\n",
    "    optimizer.zero_grad()\n",
    "    loss.backward()\n",
    "    for param in policy_net.parameters():\n",
    "        param.grad.data.clamp_(-1, 1)\n",
    "    optimizer.step()"
   ]
  },
  {
   "cell_type": "code",
   "execution_count": 20,
   "metadata": {
    "colab": {
     "base_uri": "https://localhost:8080/"
    },
    "id": "oxDJLy5RZYRF",
    "outputId": "43bbf632-ec73-4a88-ee77-3f56399ee00a"
   },
   "outputs": [
    {
     "name": "stdout",
     "output_type": "stream",
     "text": [
      "starting with new df\n",
      "Track generation: 1072..1349 -> 277-tiles track\n"
     ]
    },
    {
     "name": "stderr",
     "output_type": "stream",
     "text": [
      "/Users/noahkasmanoff/anaconda3/lib/python3.7/site-packages/gym/envs/registration.py:14: PkgResourcesDeprecationWarning: Parameters to load are deprecated.  Call .resolve and .require separately.\n",
      "  result = entry_point.load(False)\n",
      "/Users/noahkasmanoff/anaconda3/lib/python3.7/site-packages/torch/tensor.py:358: UserWarning: non-inplace resize is deprecated\n",
      "  warnings.warn(\"non-inplace resize is deprecated\")\n"
     ]
    },
    {
     "ename": "KeyboardInterrupt",
     "evalue": "",
     "output_type": "error",
     "traceback": [
      "\u001b[0;31m---------------------------------------------------------------------------\u001b[0m",
      "\u001b[0;31mKeyboardInterrupt\u001b[0m                         Traceback (most recent call last)",
      "\u001b[0;32m<ipython-input-20-d021dabd1bc5>\u001b[0m in \u001b[0;36m<module>\u001b[0;34m\u001b[0m\n\u001b[1;32m     57\u001b[0m \u001b[0;34m\u001b[0m\u001b[0m\n\u001b[1;32m     58\u001b[0m         \u001b[0;31m# Perform one step of the optimization (on the target network)\u001b[0m\u001b[0;34m\u001b[0m\u001b[0;34m\u001b[0m\u001b[0;34m\u001b[0m\u001b[0m\n\u001b[0;32m---> 59\u001b[0;31m         \u001b[0moptimize_model\u001b[0m\u001b[0;34m(\u001b[0m\u001b[0;34m)\u001b[0m\u001b[0;34m\u001b[0m\u001b[0;34m\u001b[0m\u001b[0m\n\u001b[0m\u001b[1;32m     60\u001b[0m         \u001b[0;32mif\u001b[0m \u001b[0mdone\u001b[0m\u001b[0;34m:\u001b[0m\u001b[0;34m\u001b[0m\u001b[0;34m\u001b[0m\u001b[0m\n\u001b[1;32m     61\u001b[0m             \u001b[0;31m#episode_durations.append(t + 1)\u001b[0m\u001b[0;34m\u001b[0m\u001b[0;34m\u001b[0m\u001b[0;34m\u001b[0m\u001b[0m\n",
      "\u001b[0;32m<ipython-input-19-e264ad1b9cdd>\u001b[0m in \u001b[0;36moptimize_model\u001b[0;34m()\u001b[0m\n\u001b[1;32m     42\u001b[0m     \u001b[0;31m# Optimize the model\u001b[0m\u001b[0;34m\u001b[0m\u001b[0;34m\u001b[0m\u001b[0;34m\u001b[0m\u001b[0m\n\u001b[1;32m     43\u001b[0m     \u001b[0moptimizer\u001b[0m\u001b[0;34m.\u001b[0m\u001b[0mzero_grad\u001b[0m\u001b[0;34m(\u001b[0m\u001b[0;34m)\u001b[0m\u001b[0;34m\u001b[0m\u001b[0;34m\u001b[0m\u001b[0m\n\u001b[0;32m---> 44\u001b[0;31m     \u001b[0mloss\u001b[0m\u001b[0;34m.\u001b[0m\u001b[0mbackward\u001b[0m\u001b[0;34m(\u001b[0m\u001b[0;34m)\u001b[0m\u001b[0;34m\u001b[0m\u001b[0;34m\u001b[0m\u001b[0m\n\u001b[0m\u001b[1;32m     45\u001b[0m     \u001b[0;32mfor\u001b[0m \u001b[0mparam\u001b[0m \u001b[0;32min\u001b[0m \u001b[0mpolicy_net\u001b[0m\u001b[0;34m.\u001b[0m\u001b[0mparameters\u001b[0m\u001b[0;34m(\u001b[0m\u001b[0;34m)\u001b[0m\u001b[0;34m:\u001b[0m\u001b[0;34m\u001b[0m\u001b[0;34m\u001b[0m\u001b[0m\n\u001b[1;32m     46\u001b[0m         \u001b[0mparam\u001b[0m\u001b[0;34m.\u001b[0m\u001b[0mgrad\u001b[0m\u001b[0;34m.\u001b[0m\u001b[0mdata\u001b[0m\u001b[0;34m.\u001b[0m\u001b[0mclamp_\u001b[0m\u001b[0;34m(\u001b[0m\u001b[0;34m-\u001b[0m\u001b[0;36m1\u001b[0m\u001b[0;34m,\u001b[0m \u001b[0;36m1\u001b[0m\u001b[0;34m)\u001b[0m\u001b[0;34m\u001b[0m\u001b[0;34m\u001b[0m\u001b[0m\n",
      "\u001b[0;32m~/anaconda3/lib/python3.7/site-packages/torch/tensor.py\u001b[0m in \u001b[0;36mbackward\u001b[0;34m(self, gradient, retain_graph, create_graph)\u001b[0m\n\u001b[1;32m    183\u001b[0m                 \u001b[0mproducts\u001b[0m\u001b[0;34m.\u001b[0m \u001b[0mDefaults\u001b[0m \u001b[0mto\u001b[0m\u001b[0;31m \u001b[0m\u001b[0;31m`\u001b[0m\u001b[0;31m`\u001b[0m\u001b[0;32mFalse\u001b[0m\u001b[0;31m`\u001b[0m\u001b[0;31m`\u001b[0m\u001b[0;34m.\u001b[0m\u001b[0;34m\u001b[0m\u001b[0;34m\u001b[0m\u001b[0m\n\u001b[1;32m    184\u001b[0m         \"\"\"\n\u001b[0;32m--> 185\u001b[0;31m         \u001b[0mtorch\u001b[0m\u001b[0;34m.\u001b[0m\u001b[0mautograd\u001b[0m\u001b[0;34m.\u001b[0m\u001b[0mbackward\u001b[0m\u001b[0;34m(\u001b[0m\u001b[0mself\u001b[0m\u001b[0;34m,\u001b[0m \u001b[0mgradient\u001b[0m\u001b[0;34m,\u001b[0m \u001b[0mretain_graph\u001b[0m\u001b[0;34m,\u001b[0m \u001b[0mcreate_graph\u001b[0m\u001b[0;34m)\u001b[0m\u001b[0;34m\u001b[0m\u001b[0;34m\u001b[0m\u001b[0m\n\u001b[0m\u001b[1;32m    186\u001b[0m \u001b[0;34m\u001b[0m\u001b[0m\n\u001b[1;32m    187\u001b[0m     \u001b[0;32mdef\u001b[0m \u001b[0mregister_hook\u001b[0m\u001b[0;34m(\u001b[0m\u001b[0mself\u001b[0m\u001b[0;34m,\u001b[0m \u001b[0mhook\u001b[0m\u001b[0;34m)\u001b[0m\u001b[0;34m:\u001b[0m\u001b[0;34m\u001b[0m\u001b[0;34m\u001b[0m\u001b[0m\n",
      "\u001b[0;32m~/anaconda3/lib/python3.7/site-packages/torch/autograd/__init__.py\u001b[0m in \u001b[0;36mbackward\u001b[0;34m(tensors, grad_tensors, retain_graph, create_graph, grad_variables)\u001b[0m\n\u001b[1;32m    125\u001b[0m     Variable._execution_engine.run_backward(\n\u001b[1;32m    126\u001b[0m         \u001b[0mtensors\u001b[0m\u001b[0;34m,\u001b[0m \u001b[0mgrad_tensors\u001b[0m\u001b[0;34m,\u001b[0m \u001b[0mretain_graph\u001b[0m\u001b[0;34m,\u001b[0m \u001b[0mcreate_graph\u001b[0m\u001b[0;34m,\u001b[0m\u001b[0;34m\u001b[0m\u001b[0;34m\u001b[0m\u001b[0m\n\u001b[0;32m--> 127\u001b[0;31m         allow_unreachable=True)  # allow_unreachable flag\n\u001b[0m\u001b[1;32m    128\u001b[0m \u001b[0;34m\u001b[0m\u001b[0m\n\u001b[1;32m    129\u001b[0m \u001b[0;34m\u001b[0m\u001b[0m\n",
      "\u001b[0;31mKeyboardInterrupt\u001b[0m: "
     ]
    }
   ],
   "source": [
    "# Now the actual training. .\n",
    "try:\n",
    "    training_df = pd.read_csv('training_df.csv')\n",
    "    print('last episode was ', training_df.shape[0])\n",
    "except:\n",
    "    print('starting with new df')\n",
    "    training_df = pd.DataFrame()\n",
    "    \n",
    "#episode_durations = []\n",
    "#episode_rewards = []\n",
    "\n",
    "env = wrap_env(gym.make(\"CarRacing-v0\"))\n",
    "num_episodes = 50\n",
    "try:\n",
    "    best_episode = np.load('best_episode.npy')\n",
    "except:\n",
    "    best_episode = -100\n",
    "\n",
    "for i_episode in range(num_episodes):\n",
    "    state0 = -1*np.ones(shape =(84,84))\n",
    "   # state1 = -1*np.ones(shape =(84,84))\n",
    "    # Initialize the environment and state\n",
    "    episode_reward = 0\n",
    "    state1 = env.reset()\n",
    "    #state_history = []\n",
    "    state1 = test_preprocess(state1)\n",
    "   # break\n",
    "    #state_input = torch.from_numpy(np.stack([state0,state1,state2])).resize(1,3,84,84).float()\n",
    "    state_input = torch.from_numpy(state1-state0).resize(1,1,84,84).float()\n",
    "    for t in count():\n",
    "        if RENDER:\n",
    "            env.render()\n",
    "        # Select and perform an action\n",
    "        action, eps_threshold = select_action(state_input)\n",
    "        np.save('current_steps.npy',steps_done)\n",
    "        state_, reward, done, _ = env.step(discretize(action.item()))\n",
    "        reward = torch.tensor([reward])#, device=device)\n",
    "\n",
    "        episode_reward += reward.item()\n",
    "                \n",
    "        state_ = test_preprocess(state_)\n",
    "\n",
    "        state0 = state1\n",
    "#        state1 = state2\n",
    "        state1 = state_\n",
    "        new_state_input = torch.from_numpy(state1 - state0).resize(1,1,84,84).float()\n",
    "    \n",
    "\n",
    "        # Store the transition in memory\n",
    "        memory.push(state_input, action, new_state_input, reward)\n",
    "        with open(\"memory.txt\", \"wb\") as fp:   #Pickling memory to reload w once crashes. \n",
    "            pickle.dump(memory.memory, fp)\n",
    "\n",
    "        state_input = new_state_input\n",
    "        # Move to the next state\n",
    "       # state = next_state\n",
    "\n",
    "        # Perform one step of the optimization (on the target network)\n",
    "        optimize_model()\n",
    "        if done:\n",
    "            #episode_durations.append(t + 1)\n",
    "            #episode_rewards.append(episode_reward)\n",
    "            \n",
    "            temp_df['episode_reward'] = [episode_reward]\n",
    "            temp_df['episode_duration'] = [t + 1]\n",
    "            \n",
    "            training_df = training_df.append(temp_df)\n",
    "            training_df.to_csv('training_df.csv',index=False)\n",
    "            print(\"Episode \", i_episode)\n",
    "            print(\"Reward = \", episode_reward)\n",
    "            if episode_reward > best_episode:\n",
    "                \n",
    "                best_episode = episode_reward\n",
    "                np.save('best_episode.npy',best_episode)\n",
    "\n",
    "                print(\"Saving new best model...\")\n",
    "                torch.save(policy_net, 'ckpt.pt')\n",
    "\n",
    "           # plot_durations()\n",
    "            break\n",
    "    # Update the target network, copying all weights and biases in DQN\n",
    "    \n",
    "    \n",
    "    polyak_update(POLYAK_FACTOR, target_net, policy_net)\n",
    "\n",
    "    #if i_episode % TARGET_UPDATE == 0:\n",
    "        #target_net.load_state_dict(policy_net.state_dict())\n",
    "\n",
    "print('Complete')\n",
    "\n"
   ]
  },
  {
   "cell_type": "code",
   "execution_count": null,
   "metadata": {},
   "outputs": [],
   "source": []
  },
  {
   "cell_type": "code",
   "execution_count": null,
   "metadata": {
    "id": "e0ga0TI8Qw0Y"
   },
   "outputs": [],
   "source": [
    "import pickle\n",
    "\n",
    "with open(\"test.txt\", \"wb\") as fp:   #Pickling\n",
    "    pickle.dump(memory.memory, fp)\n",
    "\n",
    "with open(\"test.txt\", \"rb\") as fp:   # Unpickling\n",
    "    b = pickle.load(fp)\n"
   ]
  },
  {
   "cell_type": "code",
   "execution_count": null,
   "metadata": {},
   "outputs": [],
   "source": [
    "memory.memory = b"
   ]
  },
  {
   "cell_type": "code",
   "execution_count": null,
   "metadata": {},
   "outputs": [],
   "source": [
    "memory.sample(batch_size=145)[0].s"
   ]
  },
  {
   "cell_type": "code",
   "execution_count": null,
   "metadata": {
    "id": "ZP-OMahcSECz"
   },
   "outputs": [],
   "source": [
    "import gym\n",
    "from gym import logger as gymlogger\n",
    "from gym.wrappers import Monitor\n",
    "gymlogger.set_level(40) #error only\n",
    "import tensorflow as tf\n",
    "import numpy as np\n",
    "import random\n",
    "import matplotlib\n",
    "import matplotlib.pyplot as plt\n",
    "%matplotlib inline\n",
    "import math\n",
    "import glob\n",
    "import io\n",
    "import base64\n",
    "from IPython.display import HTML\n",
    "\n",
    "from IPython import display as ipythondisplay"
   ]
  },
  {
   "cell_type": "code",
   "execution_count": null,
   "metadata": {
    "colab": {
     "base_uri": "https://localhost:8080/",
     "height": 402
    },
    "id": "kOEV_zIyOXMn",
    "outputId": "5b976173-f654-4e1f-ea20-3f4d1d3c734d"
   },
   "outputs": [],
   "source": [
    "# Testing \n",
    "\n",
    "# Render\n",
    "\n",
    "# Now the actual training. .\n",
    "env = wrap_env(gym.make(\"CarRacing-v0\"))\n",
    "\n",
    "num_episodes = 1\n",
    "test_episode_durations = []\n",
    "test_episode_rewards = []\n",
    "RENDER = True\n",
    "for i_episode in range(num_episodes):\n",
    "    state0 = -1*np.ones(shape =(84,84))\n",
    "    state1 = -1*np.ones(shape =(84,84))\n",
    "    # Initialize the environment and state\n",
    "    episode_reward = 0\n",
    "    state2 = env.reset()\n",
    "    #state_history = []\n",
    "    state2 = test_preprocess(state2)\n",
    "    state_input = torch.from_numpy(np.stack([state0,state1,state2])).resize(1,3,84,84).float()\n",
    "    \n",
    "    for t in count():\n",
    "        if RENDER:\n",
    "            env.render()\n",
    "        # Select and perform an action\n",
    "        action = select_action(state_input)\n",
    "        state_, reward, done, _ = env.step(discretize(action.item()))\n",
    "        reward = torch.tensor([reward])\n",
    "\n",
    "        episode_reward += reward.item()\n",
    "\n",
    "        \n",
    "        \n",
    "        state_ = test_preprocess(state_)\n",
    "\n",
    "        state0 = state1\n",
    "        state1 = state2\n",
    "        state2 = state_\n",
    "        new_state_input = torch.from_numpy(np.stack([state0,state1,state2])).resize(1,3,84,84).float()\n",
    "    \n",
    "\n",
    "        # Store the transition in memory\n",
    "     #   memory.push(state_input, action, new_state_input, reward)\n",
    "        state_input = new_state_input\n",
    "        # Move to the next state\n",
    "       # state = next_state\n",
    "\n",
    "        if done:\n",
    "            test_episode_durations.append(t + 1)\n",
    "            test_episode_rewards.append(episode_reward)\n",
    "            print(\"Episode \", i_episode)\n",
    "            print(\"Reward = \", episode_reward)\n",
    "           # plot_durations()\n",
    "            break\n",
    " \n",
    "\n",
    "print('Complete')\n",
    "\n",
    "\n",
    "           \n",
    "env.close()\n",
    "show_video()\n",
    "\n",
    "\n",
    "\n"
   ]
  },
  {
   "cell_type": "code",
   "execution_count": null,
   "metadata": {
    "id": "CAj0YV62R97k"
   },
   "outputs": [],
   "source": [
    "plt.imshow(state_input[0][0])"
   ]
  },
  {
   "cell_type": "code",
   "execution_count": null,
   "metadata": {
    "id": "rI14ujwlV0_q"
   },
   "outputs": [],
   "source": []
  }
 ],
 "metadata": {
  "accelerator": "GPU",
  "colab": {
   "collapsed_sections": [],
   "include_colab_link": true,
   "machine_shape": "hm",
   "name": "Load CarRacing In Colab.ipynb",
   "provenance": []
  },
  "kernelspec": {
   "display_name": "Python 3",
   "language": "python",
   "name": "python3"
  },
  "language_info": {
   "codemirror_mode": {
    "name": "ipython",
    "version": 3
   },
   "file_extension": ".py",
   "mimetype": "text/x-python",
   "name": "python",
   "nbconvert_exporter": "python",
   "pygments_lexer": "ipython3",
   "version": "3.7.4"
  }
 },
 "nbformat": 4,
 "nbformat_minor": 1
}
