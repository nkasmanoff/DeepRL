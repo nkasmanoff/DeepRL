{
 "cells": [
  {
   "cell_type": "markdown",
   "metadata": {
    "colab_type": "text",
    "id": "view-in-github"
   },
   "source": [
    "<a href=\"https://colab.research.google.com/github/nkasmanoff/DeepRL/blob/master/Load_CarRacing_In_Colab.ipynb\" target=\"_parent\"><img src=\"https://colab.research.google.com/assets/colab-badge.svg\" alt=\"Open In Colab\"/></a>"
   ]
  },
  {
   "cell_type": "markdown",
   "metadata": {
    "id": "prYhQX_dTzVC"
   },
   "source": [
    "This notebook is used to train a DQN on the CarRacing Open AI gym environment, using a GPU, but most importantly, is able to load this environment!"
   ]
  },
  {
   "cell_type": "markdown",
   "metadata": {
    "id": "Oow0rc2iaDZ4"
   },
   "source": [
    "# CoLab Preambles\n",
    "\n",
    "Most of the requirements of python packages are already fulfilled on CoLab. To run Gym, you have to install prerequisites like xvbf,opengl & other python-dev packages using the following codes.\n",
    "\n",
    "[](To be done next time: )\n",
    "[](https://becominghuman.ai/lets-build-an-atari-ai-part-1-dqn-df57e8ff3b26)"
   ]
  },
  {
   "cell_type": "code",
   "execution_count": null,
   "metadata": {
    "colab": {
     "base_uri": "https://localhost:8080/",
     "height": 680
    },
    "id": "7wY4qZhPXotR",
    "outputId": "cdcd2771-3393-4b18-d018-93cb94ed0d36"
   },
   "outputs": [],
   "source": [
    "#!pip install gym\n",
    "#!apt-get install python-opengl -y\n",
    "#!apt install xvfb -y"
   ]
  },
  {
   "cell_type": "code",
   "execution_count": null,
   "metadata": {
    "colab": {
     "base_uri": "https://localhost:8080/",
     "height": 187
    },
    "id": "3U99_zgNCk3t",
    "outputId": "27a0bba7-50e0-49b0-db5c-108d6a02219c"
   },
   "outputs": [],
   "source": [
    "#!pip install gym[atari]"
   ]
  },
  {
   "cell_type": "markdown",
   "metadata": {
    "id": "giqCoXRwaaH3"
   },
   "source": [
    "For rendering environment, you can use pyvirtualdisplay. So fulfill that "
   ]
  },
  {
   "cell_type": "code",
   "execution_count": null,
   "metadata": {
    "colab": {
     "base_uri": "https://localhost:8080/",
     "height": 374
    },
    "id": "yrxgO5S4XxI5",
    "outputId": "be441d9c-8bd9-4a2c-ed05-805f96e31beb"
   },
   "outputs": [],
   "source": [
    "#!pip install pyvirtualdisplay\n",
    "#!pip install piglet"
   ]
  },
  {
   "cell_type": "markdown",
   "metadata": {
    "id": "vUSaUTcgat3F"
   },
   "source": [
    "To activate virtual display we need to run a script once for training an agent, as follows:"
   ]
  },
  {
   "cell_type": "code",
   "execution_count": null,
   "metadata": {
    "colab": {
     "base_uri": "https://localhost:8080/",
     "height": 34
    },
    "id": "Pn1IAnsDYK4V",
    "outputId": "e6e0a47b-048c-4ab9-f31c-3217482df538"
   },
   "outputs": [],
   "source": [
    "#from pyvirtualdisplay import Display\n",
    "#display = Display(visible=0, size=(1400, 900))\n",
    "#display.start()"
   ]
  },
  {
   "cell_type": "code",
   "execution_count": null,
   "metadata": {
    "id": "AutUqpSRYN1W"
   },
   "outputs": [],
   "source": [
    "# This code creates a virtual display to draw game images on. \n",
    "# If you are running locally, just ignore it\n",
    "import os\n",
    "if type(os.environ.get(\"DISPLAY\")) is not str or len(os.environ.get(\"DISPLAY\"))==0:\n",
    "    !bash ../xvfb start\n",
    "    %env DISPLAY=:1"
   ]
  },
  {
   "cell_type": "code",
   "execution_count": null,
   "metadata": {
    "id": "Jh10T5veI1zk"
   },
   "outputs": [],
   "source": [
    "import gym\n",
    "from gym import logger as gymlogger\n",
    "from gym.wrappers import Monitor\n",
    "gymlogger.set_level(40) # error only\n",
    "#import tensorflow as tf\n",
    "import numpy as np\n",
    "import random\n",
    "import matplotlib\n",
    "import matplotlib.pyplot as plt\n",
    "%matplotlib inline\n",
    "import math\n",
    "import glob\n",
    "import io\n",
    "import base64\n",
    "from IPython.display import HTML\n",
    "\n",
    "from IPython import display as ipythondisplay"
   ]
  },
  {
   "cell_type": "code",
   "execution_count": null,
   "metadata": {
    "id": "JWNVK4NUJUCl"
   },
   "outputs": [],
   "source": [
    "\"\"\"\n",
    "Utility functions to enable video recording of gym environment and displaying it\n",
    "To enable video, just do \"env = wrap_env(env)\"\"\n",
    "\"\"\"\n",
    "\n",
    "def show_video():\n",
    "  mp4list = glob.glob('video/*.mp4')\n",
    "  if len(mp4list) > 0:\n",
    "    mp4 = mp4list[0]\n",
    "    video = io.open(mp4, 'r+b').read()\n",
    "    encoded = base64.b64encode(video)\n",
    "    ipythondisplay.display(HTML(data='''<video alt=\"test\" autoplay \n",
    "                loop controls style=\"height: 400px;\">\n",
    "                <source src=\"data:video/mp4;base64,{0}\" type=\"video/mp4\" />\n",
    "             </video>'''.format(encoded.decode('ascii'))))\n",
    "  else: \n",
    "    print(\"Could not find video\")\n",
    "    \n",
    "\n",
    "def wrap_env(env):\n",
    "  env = Monitor(env, './video', force=True)\n",
    "  return env"
   ]
  },
  {
   "cell_type": "code",
   "execution_count": null,
   "metadata": {
    "colab": {
     "base_uri": "https://localhost:8080/",
     "height": 54
    },
    "id": "_H4RZv88Oy57",
    "outputId": "d48b60ce-e78d-4b7a-fe36-2f7feba27a3a"
   },
   "outputs": [],
   "source": [
    "from gym import envs\n",
    "#print(envs.registry.all())"
   ]
  },
  {
   "cell_type": "markdown",
   "metadata": {
    "id": "NzL1lHWpPQ-_"
   },
   "source": [
    "## Add your own environments\n"
   ]
  },
  {
   "cell_type": "code",
   "execution_count": null,
   "metadata": {
    "colab": {
     "base_uri": "https://localhost:8080/",
     "height": 187
    },
    "id": "ZGn9Aj9sa4Vk",
    "outputId": "70aa8e6e-5f0c-4875-8a93-002803196eb5"
   },
   "outputs": [],
   "source": [
    "#!pip install gym[atari]"
   ]
  },
  {
   "cell_type": "markdown",
   "metadata": {
    "id": "YsUglhhic_oE"
   },
   "source": [
    "## Box2d"
   ]
  },
  {
   "cell_type": "markdown",
   "metadata": {
    "id": "PGuvFaoNcoBF"
   },
   "source": [
    "Box2d is a 2D physics engine. You can install it via  and then get started as follow:"
   ]
  },
  {
   "cell_type": "code",
   "execution_count": null,
   "metadata": {
    "colab": {
     "base_uri": "https://localhost:8080/",
     "height": 204
    },
    "id": "LCSdSokZcztQ",
    "outputId": "edeafcb4-bc3d-4cf3-849b-8364cb1a9431"
   },
   "outputs": [],
   "source": [
    "#!pip install gym[box2d]"
   ]
  },
  {
   "cell_type": "code",
   "execution_count": null,
   "metadata": {},
   "outputs": [],
   "source": [
    "def discretize(action):\n",
    "    \"\"\"\n",
    "    Discrete actions used, so far I've made it so that there are 5 unique actions, and the DQN \n",
    "    selects from these\n",
    "    \"\"\"\n",
    "    \n",
    "    if action  == 0:\n",
    "        # do nothing \n",
    "        return np.array([0,0,0])\n",
    "    if action  == 1:\n",
    "        # glide left \n",
    "        return np.array([-1,0,0])\n",
    "    if action  == 2:\n",
    "        # glide right \n",
    "        return np.array([1,0,0])\n",
    "    if action  == 3:\n",
    "        # accelerate\n",
    "        return np.array([0,1,0])\n",
    "    if action  == 4:\n",
    "        # brake\n",
    "        return np.array([0,0,1])\n",
    "    if action  == 5:\n",
    "        # turn left acc little bit\n",
    "        return np.array([-1,.5,0])\n",
    "    if action == 6:\n",
    "        # turn right acc little bit\n",
    "        return np.array([-1,.5,0])\n"
   ]
  },
  {
   "cell_type": "markdown",
   "metadata": {
    "id": "hbox5wS7lcw_"
   },
   "source": [
    "# Environment successfully loaded in. \n",
    "\n",
    "# Next up, instantiate DQN Modules"
   ]
  },
  {
   "cell_type": "code",
   "execution_count": null,
   "metadata": {
    "id": "pvIjZCFdk23X"
   },
   "outputs": [],
   "source": [
    "import gym\n",
    "import math\n",
    "import random\n",
    "import numpy as np\n",
    "import matplotlib\n",
    "import matplotlib.pyplot as plt\n",
    "from collections import namedtuple\n",
    "from itertools import count\n",
    "from PIL import Image\n",
    "\n",
    "import torch\n",
    "import torch.nn as nn\n",
    "import torch.optim as optim\n",
    "import torch.nn.functional as F\n",
    "import torchvision.transforms as T\n",
    "\n",
    "device = torch.device(\"cuda\" if torch.cuda.is_available() else \"cpu\")\n",
    "\n",
    "\n",
    "%matplotlib inline"
   ]
  },
  {
   "cell_type": "code",
   "execution_count": null,
   "metadata": {},
   "outputs": [],
   "source": [
    "Transition = namedtuple('Transition',\n",
    "                        ('state', 'action', 'next_state', 'reward'))"
   ]
  },
  {
   "cell_type": "code",
   "execution_count": null,
   "metadata": {},
   "outputs": [],
   "source": [
    "class ReplayMemory(object):\n",
    "    \"\"\"\n",
    "    Replay buffer, can do saving, sampling, and clearing \n",
    "    \"\"\"\n",
    "\n",
    "    def __init__(self, capacity):\n",
    "        self.capacity = capacity\n",
    "        self.memory = []\n",
    "        self.position = 0\n",
    "\n",
    "    def push(self, *args):\n",
    "        \"\"\"Saves a transition.\"\"\"\n",
    "        if len(self.memory) < self.capacity:\n",
    "            self.memory.append(None)\n",
    "        self.memory[self.position] = Transition(*args)\n",
    "        self.position = (self.position + 1) % self.capacity\n",
    "\n",
    "    def sample(self, batch_size):\n",
    "        return random.sample(self.memory, batch_size)\n",
    "\n",
    "    def __len__(self):\n",
    "        return len(self.memory)"
   ]
  },
  {
   "cell_type": "code",
   "execution_count": null,
   "metadata": {},
   "outputs": [],
   "source": [
    "class DeepQNetwork(nn.Module):\n",
    "    \"\"\"\n",
    "    Deep Q Network module. \n",
    "    \n",
    "    It instantiates the class optimizer, device, and all the layers used. \n",
    "    \n",
    "    Same architecture as the one used in HW1, since that seemed to learn things!\n",
    "    \n",
    "    \n",
    "    \"\"\"\n",
    "    def __init__(self,lr,in_ch=3,n_actions=7,ch=2):\n",
    "        super(DeepQNetwork,self).__init__()\n",
    "        self.conv1 = nn.Conv2d(in_channels=in_ch,out_channels=ch*8,kernel_size=7)\n",
    "        self.conv2 = nn.Conv2d(in_channels=ch*8,out_channels=ch*16,kernel_size=3,stride=2)\n",
    "        self.conv3 = nn.Conv2d(in_channels=ch*16,out_channels=ch*16,kernel_size=7)\n",
    "        self.conv4 = nn.Conv2d(in_channels=ch*16,out_channels=ch*32,kernel_size=3,stride=2)\n",
    "        self.conv5 = nn.Conv2d(in_channels=ch*32,out_channels=ch*32,kernel_size=7)\n",
    "        self.conv6 = nn.Conv2d(in_channels=ch*32,out_channels=ch*64,kernel_size=3,stride=2)\n",
    "        self.fc1 = nn.Linear(64 * ch * 4 * 4,256)\n",
    "        self.fc2 = nn.Linear(256,n_actions)\n",
    "        self.history_length = in_ch\n",
    "        self.ch = ch\n",
    "\n",
    "        \n",
    "    def forward(self, x):\n",
    "        \n",
    "        #x = torch.Tensor(x).to(self.device) #send to GPU, and make a pytorch obj in case it isn't\n",
    "        x = x.view(-1,self.history_length,x.shape[-2],x.shape[-1]) #proper shape too, in case it wasn't \n",
    "        x = F.relu(self.conv1(x))\n",
    "        x = F.relu(self.conv2(x))\n",
    "        x = F.relu(self.conv3(x))\n",
    "        x = F.relu(self.conv4(x))\n",
    "        x = F.relu(self.conv5(x))\n",
    "        x = F.relu(self.conv6(x))\n",
    "\n",
    "        x = x.view(-1, 64 * self.ch * 4 * 4)\n",
    "        \n",
    "        x = F.relu(self.fc1(x))\n",
    "        a = self.fc2(x)\n",
    "\n",
    "        return a\n",
    "  "
   ]
  },
  {
   "cell_type": "markdown",
   "metadata": {},
   "source": [
    "# Input extraction"
   ]
  },
  {
   "cell_type": "code",
   "execution_count": null,
   "metadata": {},
   "outputs": [],
   "source": [
    "# That's what all these helper functions do. \n",
    "\n",
    "def rgb2gray(rgb):\n",
    "    \"\"\" \n",
    "    converts rgb images to grayscale.\n",
    "    \"\"\"\n",
    "    gray = np.dot(rgb[...,:3], [0.2125, 0.7154, 0.0721])\n",
    "    return gray.astype('float32') \n",
    "\n",
    "def test_preprocess(state):\n",
    "    \"\"\"\n",
    "    Crop, grayscale, and standardize \n",
    "    \"\"\"\n",
    "    state = state[:-12:,6:-6]\n",
    "    state = rgb2gray(state)\n",
    "    state = state / 255\n",
    "    state = state  * 2 - 1\n",
    "    \n",
    "\n",
    "    return state\n",
    "\n",
    "\n",
    "def grab_test_history(state,state_history,history_length): \n",
    "    \"\"\"\n",
    "    Designate the number of frames you want to use, and \n",
    "    stack together. \n",
    "    \"\"\"\n",
    "    if len(state_history) >= history_length:\n",
    "        state_input = np.array(state_history[-history_length:])\n",
    "\n",
    "    \n",
    "    else:\n",
    "        remainder = history_length - len(state_history)\n",
    "        padding = np.zeros(shape = (remainder,84,84))\n",
    "        state_input = np.array(state_history[-history_length:])\n",
    "        state_input = np.concatenate((padding,state_input))\n",
    "        \n",
    "    state_input = torch.from_numpy(state_input).resize(1,history_length,84,84).float()\n",
    "    return state_input    \n",
    "            \n",
    "\n",
    "\n",
    "def discretize(action):\n",
    "    \"\"\"\n",
    "    Discrete actions used, so far I've made it so that there are 5 unique actions, and the DQN \n",
    "    selects from these\n",
    "    \"\"\"\n",
    "    \n",
    "    if action  == 0:\n",
    "        # do nothing \n",
    "        return np.array([0,0,0])\n",
    "    if action  == 1:\n",
    "        # glide left \n",
    "        return np.array([-1,0,0])\n",
    "    if action  == 2:\n",
    "        # glide right \n",
    "        return np.array([1,0,0])\n",
    "    if action  == 3:\n",
    "        # accelerate\n",
    "        return np.array([0,1,0])\n",
    "    if action  == 4:\n",
    "        # brake\n",
    "        return np.array([0,0,1])\n",
    "    if action  == 5:\n",
    "        # turn left acc little bit\n",
    "        return np.array([-1,.5,0])\n",
    "    if action == 6:\n",
    "        # turn right acc little bit\n",
    "        return np.array([-1,.5,0])\n"
   ]
  },
  {
   "cell_type": "markdown",
   "metadata": {},
   "source": [
    "# Training Loop"
   ]
  },
  {
   "cell_type": "code",
   "execution_count": null,
   "metadata": {},
   "outputs": [],
   "source": [
    "policy_net = DeepQNetwork(lr=ALPHA,in_ch=HISTORY_LENGTH,n_actions=n_actions,ch=CH).to(device)\n",
    "target_net = DeepQNetwork(lr=ALPHA,in_ch=HISTORY_LENGTH,n_actions=n_actions,ch=CH).to(device)\n",
    "target_net.load_state_dict(policy_net.state_dict())\n",
    "target_net.eval()\n"
   ]
  },
  {
   "cell_type": "code",
   "execution_count": null,
   "metadata": {},
   "outputs": [],
   "source": [
    "optimizer = optim.Adam(policy_net.parameters()) # what to train with\n",
    "memory = ReplayMemory(10000) # initizalize replay "
   ]
  },
  {
   "cell_type": "code",
   "execution_count": null,
   "metadata": {},
   "outputs": [],
   "source": [
    "steps_done = 0\n",
    "\n",
    "def select_action(state):\n",
    "    \"\"\"\n",
    "    Given an input state, chose an action either via epsilon decay, \n",
    "    or what the policy net likes\n",
    "    \"\"\"\n",
    "    global steps_done\n",
    "    sample = random.random()\n",
    "    eps_threshold = EPS_END + (EPS_START - EPS_END) * \\\n",
    "        math.exp(-1. * steps_done / EPS_DECAY)\n",
    "    steps_done += 1\n",
    "    if sample > eps_threshold:\n",
    "       # print(\"policy choice\")\n",
    "        with torch.no_grad():\n",
    "            # t.max(1) will return largest column value of each row.\n",
    "            # second column on max result is index of where max element was\n",
    "            # found, so we pick action with the larger expected reward.\n",
    "            return policy_net(state.to(device)).max(1)[1].view(1, 1)\n",
    "    else:\n",
    "       # print(\"Eps dec \")\n",
    "        return torch.tensor([[random.randrange(n_actions)]], device=device, dtype=torch.long)\n"
   ]
  },
  {
   "cell_type": "code",
   "execution_count": null,
   "metadata": {},
   "outputs": [],
   "source": [
    "episode_durations = []\n",
    "\n",
    "def optimize_model():\n",
    "    \"\"\"\n",
    "    Completes a single step of the optimization. Samples a batch, computes \n",
    "    Q and r + maxQ, and takes the gradient step to bring those closer together. \n",
    "    \"\"\"\n",
    "    if len(memory) < BATCH_SIZE:\n",
    "        return\n",
    "    transitions = memory.sample(BATCH_SIZE)\n",
    "    # Transpose the batch (see https://stackoverflow.com/a/19343/3343043 for\n",
    "    # detailed explanation). This converts batch-array of Transitions\n",
    "    # to Transition of batch-arrays.\n",
    "    batch = Transition(*zip(*transitions))\n",
    "\n",
    "    # Compute a mask of non-final states and concatenate the batch elements\n",
    "    # (a final state would've been the one after which simulation ended)\n",
    "    non_final_mask = torch.tensor(tuple(map(lambda s: s is not None,\n",
    "                                          batch.next_state)), device=device, dtype=torch.bool)\n",
    "    non_final_next_states = torch.cat([s for s in batch.next_state\n",
    "                                                if s is not None])\n",
    "    state_batch = torch.cat(batch.state)\n",
    "    action_batch = torch.cat(batch.action)\n",
    "    reward_batch = torch.cat(batch.reward)\n",
    "\n",
    "    # Compute Q(s_t, a) - the model computes Q(s_t), then we select the\n",
    "    # columns of actions taken. These are the actions which would've been taken\n",
    "    # for each batch state according to policy_net\n",
    "    state_action_values = policy_net(state_batch).gather(1, action_batch)\n",
    "\n",
    "    # Compute V(s_{t+1}) for all next states.\n",
    "    # Expected values of actions for non_final_next_states are computed based\n",
    "    # on the \"older\" target_net; selecting their best reward with max(1)[0].\n",
    "    # This is merged based on the mask, such that we'll have either the expected\n",
    "    # state value or 0 in case the state was final.\n",
    "    next_state_values = torch.zeros(BATCH_SIZE, device=device)\n",
    "    next_state_values[non_final_mask] = target_net(non_final_next_states).max(1)[0].detach()\n",
    "    # Compute the expected Q values\n",
    "    expected_state_action_values = (next_state_values * GAMMA) + reward_batch\n",
    "\n",
    "    # Compute Huber loss\n",
    "    loss = F.smooth_l1_loss(state_action_values, expected_state_action_values.unsqueeze(1))\n",
    "\n",
    "    # Optimize the model\n",
    "    optimizer.zero_grad()\n",
    "    loss.backward()\n",
    "    for param in policy_net.parameters():\n",
    "        param.grad.data.clamp_(-1, 1)\n",
    "    optimizer.step()"
   ]
  },
  {
   "cell_type": "code",
   "execution_count": null,
   "metadata": {},
   "outputs": [],
   "source": [
    "BATCH_SIZE = 128\n",
    "GAMMA = 0.999\n",
    "EPS_START = 0.9\n",
    "EPS_END = 0.05\n",
    "EPS_DECAY = 200\n",
    "TARGET_UPDATE = 10\n",
    "ALPHA = .001\n",
    "HISTORY_LENGTH = 2\n",
    "CH = 1 # model capacity\n",
    "RENDER = True\n",
    "n_actions = 7 # I designate this, not the action space"
   ]
  },
  {
   "cell_type": "code",
   "execution_count": null,
   "metadata": {},
   "outputs": [],
   "source": [
    "# Now the actual training. .\n",
    "env = gym.make('CarRacing-v0')\n",
    "\n",
    "num_episodes = 50\n",
    "for i_episode in range(num_episodes):\n",
    "    # Initialize the environment and state\n",
    "   # env.reset()\n",
    "    \n",
    "    state = env.reset()\n",
    "    state_history = []\n",
    "    state = test_preprocess(state)\n",
    "    state_history.append(state)\n",
    "    state_input = grab_test_history(state,state_history,history_length=HISTORY_LENGTH)\n",
    "    #break\n",
    "   # last_screen = get_screen()\n",
    "   # current_screen = get_screen()\n",
    "   # state = current_screen - last_screen\n",
    "    for t in count():\n",
    "        if RENDER:\n",
    "            env.render()\n",
    "        # Select and perform an action\n",
    "        action = select_action(state_input)\n",
    "        next_state, reward, done, _ = env.step(discretize(action.item()))\n",
    "        reward = torch.tensor([reward], device=device)\n",
    "\n",
    "        \n",
    "\n",
    "        # Observe new state\n",
    "        #last_screen = current_screen\n",
    "        #current_screen = get_screen()\n",
    "        \n",
    "        \n",
    "      #  if not done:\n",
    "       #     next_state = #current_screen - last_screen\n",
    "  #      else:\n",
    " #           next_state = None\n",
    "\n",
    "\n",
    "        next_state = test_preprocess(next_state)\n",
    "\n",
    "        state_history.append(state)\n",
    "        old_state_input = state_input\n",
    "\n",
    "        state_input = grab_test_history(state,state_history,history_length=HISTORY_LENGTH)\n",
    "\n",
    "        # Store the transition in memory\n",
    "        memory.push(old_state_input, action, state_input, reward)\n",
    "\n",
    "        # Move to the next state\n",
    "       # state = next_state\n",
    "\n",
    "        # Perform one step of the optimization (on the target network)\n",
    "        optimize_model()\n",
    "        if done:\n",
    "            episode_durations.append(t + 1)\n",
    "            plot_durations()\n",
    "            break\n",
    "    # Update the target network, copying all weights and biases in DQN\n",
    "    if i_episode % TARGET_UPDATE == 0:\n",
    "        target_net.load_state_dict(policy_net.state_dict())\n",
    "\n",
    "print('Complete')\n"
   ]
  },
  {
   "cell_type": "code",
   "execution_count": null,
   "metadata": {
    "id": "4x9-dwFek298"
   },
   "outputs": [],
   "source": []
  }
 ],
 "metadata": {
  "colab": {
   "collapsed_sections": [],
   "include_colab_link": true,
   "name": "Load CarRacing In Colab.ipynb",
   "provenance": []
  },
  "kernelspec": {
   "display_name": "Python 3",
   "language": "python",
   "name": "python3"
  },
  "language_info": {
   "codemirror_mode": {
    "name": "ipython",
    "version": 3
   },
   "file_extension": ".py",
   "mimetype": "text/x-python",
   "name": "python",
   "nbconvert_exporter": "python",
   "pygments_lexer": "ipython3",
   "version": "3.7.4"
  }
 },
 "nbformat": 4,
 "nbformat_minor": 4
}
