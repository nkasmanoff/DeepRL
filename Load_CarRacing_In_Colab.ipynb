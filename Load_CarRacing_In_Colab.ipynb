{
  "nbformat": 4,
  "nbformat_minor": 0,
  "metadata": {
    "accelerator": "GPU",
    "colab": {
      "name": "Load CarRacing In Colab.ipynb",
      "provenance": [],
      "collapsed_sections": [],
      "machine_shape": "hm",
      "include_colab_link": true
    },
    "kernelspec": {
      "display_name": "Python 3",
      "language": "python",
      "name": "python3"
    },
    "language_info": {
      "codemirror_mode": {
        "name": "ipython",
        "version": 3
      },
      "file_extension": ".py",
      "mimetype": "text/x-python",
      "name": "python",
      "nbconvert_exporter": "python",
      "pygments_lexer": "ipython3",
      "version": "3.7.4"
    }
  },
  "cells": [
    {
      "cell_type": "markdown",
      "metadata": {
        "id": "view-in-github",
        "colab_type": "text"
      },
      "source": [
        "<a href=\"https://colab.research.google.com/github/nkasmanoff/DeepRL/blob/master/Load_CarRacing_In_Colab.ipynb\" target=\"_parent\"><img src=\"https://colab.research.google.com/assets/colab-badge.svg\" alt=\"Open In Colab\"/></a>"
      ]
    },
    {
      "cell_type": "markdown",
      "metadata": {
        "id": "prYhQX_dTzVC"
      },
      "source": [
        "This notebook is used to train a DQN on the CarRacing Open AI gym environment, using a GPU, but most importantly, is able to load this environment!"
      ]
    },
    {
      "cell_type": "markdown",
      "metadata": {
        "id": "Oow0rc2iaDZ4"
      },
      "source": [
        "# CoLab Preambles\n",
        "\n",
        "Most of the requirements of python packages are already fulfilled on CoLab. To run Gym, you have to install prerequisites like xvbf,opengl & other python-dev packages using the following codes.\n",
        "\n",
        "[](To be done next time: )\n",
        "[](https://becominghuman.ai/lets-build-an-atari-ai-part-1-dqn-df57e8ff3b26)"
      ]
    },
    {
      "cell_type": "code",
      "metadata": {
        "id": "7wY4qZhPXotR",
        "outputId": "c9b6ddf5-9c56-4eab-b9b6-d86ce88f36bb",
        "colab": {
          "base_uri": "https://localhost:8080/"
        }
      },
      "source": [
        "!pip install gym\n",
        "!apt-get install python-opengl -y\n",
        "!apt install xvfb -y\n",
        "!pip install pyvirtualdisplay\n",
        "!pip install piglet\n",
        "!pip install gym[box2d]"
      ],
      "execution_count": 1,
      "outputs": [
        {
          "output_type": "stream",
          "text": [
            "Requirement already satisfied: gym in /usr/local/lib/python3.6/dist-packages (0.17.3)\n",
            "Requirement already satisfied: cloudpickle<1.7.0,>=1.2.0 in /usr/local/lib/python3.6/dist-packages (from gym) (1.3.0)\n",
            "Requirement already satisfied: scipy in /usr/local/lib/python3.6/dist-packages (from gym) (1.4.1)\n",
            "Requirement already satisfied: numpy>=1.10.4 in /usr/local/lib/python3.6/dist-packages (from gym) (1.18.5)\n",
            "Requirement already satisfied: pyglet<=1.5.0,>=1.4.0 in /usr/local/lib/python3.6/dist-packages (from gym) (1.5.0)\n",
            "Requirement already satisfied: future in /usr/local/lib/python3.6/dist-packages (from pyglet<=1.5.0,>=1.4.0->gym) (0.16.0)\n",
            "Reading package lists... Done\n",
            "Building dependency tree       \n",
            "Reading state information... Done\n",
            "python-opengl is already the newest version (3.1.0+dfsg-1).\n",
            "0 upgraded, 0 newly installed, 0 to remove and 11 not upgraded.\n",
            "Reading package lists... Done\n",
            "Building dependency tree       \n",
            "Reading state information... Done\n",
            "xvfb is already the newest version (2:1.19.6-1ubuntu4.7).\n",
            "0 upgraded, 0 newly installed, 0 to remove and 11 not upgraded.\n",
            "Requirement already satisfied: pyvirtualdisplay in /usr/local/lib/python3.6/dist-packages (1.3.2)\n",
            "Requirement already satisfied: EasyProcess in /usr/local/lib/python3.6/dist-packages (from pyvirtualdisplay) (0.3)\n",
            "Requirement already satisfied: piglet in /usr/local/lib/python3.6/dist-packages (1.0.0)\n",
            "Requirement already satisfied: piglet-templates in /usr/local/lib/python3.6/dist-packages (from piglet) (1.0.0)\n",
            "Requirement already satisfied: markupsafe in /usr/local/lib/python3.6/dist-packages (from piglet-templates->piglet) (1.1.1)\n",
            "Requirement already satisfied: astunparse in /usr/local/lib/python3.6/dist-packages (from piglet-templates->piglet) (1.6.3)\n",
            "Requirement already satisfied: attrs in /usr/local/lib/python3.6/dist-packages (from piglet-templates->piglet) (20.2.0)\n",
            "Requirement already satisfied: Parsley in /usr/local/lib/python3.6/dist-packages (from piglet-templates->piglet) (1.3)\n",
            "Requirement already satisfied: wheel<1.0,>=0.23.0 in /usr/local/lib/python3.6/dist-packages (from astunparse->piglet-templates->piglet) (0.35.1)\n",
            "Requirement already satisfied: six<2.0,>=1.6.1 in /usr/local/lib/python3.6/dist-packages (from astunparse->piglet-templates->piglet) (1.15.0)\n",
            "Requirement already satisfied: gym[box2d] in /usr/local/lib/python3.6/dist-packages (0.17.3)\n",
            "Requirement already satisfied: scipy in /usr/local/lib/python3.6/dist-packages (from gym[box2d]) (1.4.1)\n",
            "Requirement already satisfied: pyglet<=1.5.0,>=1.4.0 in /usr/local/lib/python3.6/dist-packages (from gym[box2d]) (1.5.0)\n",
            "Requirement already satisfied: numpy>=1.10.4 in /usr/local/lib/python3.6/dist-packages (from gym[box2d]) (1.18.5)\n",
            "Requirement already satisfied: cloudpickle<1.7.0,>=1.2.0 in /usr/local/lib/python3.6/dist-packages (from gym[box2d]) (1.3.0)\n",
            "Requirement already satisfied: box2d-py~=2.3.5; extra == \"box2d\" in /usr/local/lib/python3.6/dist-packages (from gym[box2d]) (2.3.8)\n",
            "Requirement already satisfied: future in /usr/local/lib/python3.6/dist-packages (from pyglet<=1.5.0,>=1.4.0->gym[box2d]) (0.16.0)\n"
          ],
          "name": "stdout"
        }
      ]
    },
    {
      "cell_type": "markdown",
      "metadata": {
        "id": "giqCoXRwaaH3"
      },
      "source": [
        "For rendering environment, you can use pyvirtualdisplay. So fulfill that "
      ]
    },
    {
      "cell_type": "markdown",
      "metadata": {
        "id": "vUSaUTcgat3F"
      },
      "source": [
        "To activate virtual display we need to run a script once for training an agent, as follows:"
      ]
    },
    {
      "cell_type": "code",
      "metadata": {
        "id": "Pn1IAnsDYK4V"
      },
      "source": [
        "from pyvirtualdisplay import Display\n",
        "display = Display(visible=0, size=(1400, 900))\n",
        "display.start()\n",
        "\n",
        "# This code creates a virtual display to draw game images on. \n",
        "# If you are running locally, just ignore it\n",
        "import os\n",
        "if type(os.environ.get(\"DISPLAY\")) is not str or len(os.environ.get(\"DISPLAY\"))==0:\n",
        "    !bash ../xvfb start\n",
        "    %env DISPLAY=:1"
      ],
      "execution_count": 2,
      "outputs": []
    },
    {
      "cell_type": "code",
      "metadata": {
        "id": "Jh10T5veI1zk",
        "outputId": "bfe69032-6671-413d-c69d-e1a9a783500a",
        "colab": {
          "base_uri": "https://localhost:8080/"
        }
      },
      "source": [
        "import gym\n",
        "from gym import logger as gymlogger\n",
        "from gym.wrappers import Monitor\n",
        "gymlogger.set_level(40) # error only\n",
        "#import tensorflow as tf\n",
        "import numpy as np\n",
        "import random\n",
        "import matplotlib\n",
        "import matplotlib.pyplot as plt\n",
        "%matplotlib inline\n",
        "import math\n",
        "import glob\n",
        "import io\n",
        "import base64\n",
        "from IPython.display import HTML\n",
        "\n",
        "from IPython import display as ipythondisplay\n",
        "from gym import envs\n",
        "\n",
        "\n",
        "from collections import namedtuple\n",
        "from itertools import count\n",
        "from PIL import Image\n",
        "\n",
        "import torch\n",
        "import torch.nn as nn\n",
        "import torch.optim as optim\n",
        "import torch.nn.functional as F\n",
        "import torchvision.transforms as T\n",
        "\n",
        "device = torch.device(\"cuda\" if torch.cuda.is_available() else \"cpu\")\n",
        "\n",
        "print(device)\n",
        "#% mat"
      ],
      "execution_count": 3,
      "outputs": [
        {
          "output_type": "stream",
          "text": [
            "cuda\n"
          ],
          "name": "stdout"
        }
      ]
    },
    {
      "cell_type": "code",
      "metadata": {
        "id": "JWNVK4NUJUCl"
      },
      "source": [
        "\n",
        "def show_video():\n",
        "  mp4list = glob.glob('video/*.mp4')\n",
        "  if len(mp4list) > 0:\n",
        "    mp4 = mp4list[0]\n",
        "    video = io.open(mp4, 'r+b').read()\n",
        "    encoded = base64.b64encode(video)\n",
        "    ipythondisplay.display(HTML(data='''<video alt=\"test\" autoplay \n",
        "                loop controls style=\"height: 400px;\">\n",
        "                <source src=\"data:video/mp4;base64,{0}\" type=\"video/mp4\" />\n",
        "             </video>'''.format(encoded.decode('ascii'))))\n",
        "  else: \n",
        "    print(\"Could not find video\")\n",
        "    \n",
        "\n",
        "def wrap_env(env):\n",
        "    env = Monitor(env, './video', force=True)\n",
        "    return env"
      ],
      "execution_count": 4,
      "outputs": []
    },
    {
      "cell_type": "code",
      "metadata": {
        "id": "WGkCuxJlZYQu"
      },
      "source": [
        "Transition = namedtuple('Transition',\n",
        "                        ('state', 'action', 'next_state', 'reward'))\n",
        "\n",
        "class ReplayMemory(object):\n",
        "    \"\"\"\n",
        "    Replay buffer, can do saving, sampling, and clearing \n",
        "    \"\"\"\n",
        "\n",
        "    def __init__(self, capacity):\n",
        "        self.capacity = capacity\n",
        "        self.memory = []\n",
        "        self.position = 0\n",
        "\n",
        "    def push(self, *args):\n",
        "        \"\"\"Saves a transition.\"\"\"\n",
        "        if len(self.memory) < self.capacity:\n",
        "            self.memory.append(None)\n",
        "        self.memory[self.position] = Transition(*args)\n",
        "        self.position = (self.position + 1) % self.capacity\n",
        "\n",
        "    def sample(self, batch_size):\n",
        "        return random.sample(self.memory, batch_size)\n",
        "\n",
        "    def __len__(self):\n",
        "        return len(self.memory)"
      ],
      "execution_count": 5,
      "outputs": []
    },
    {
      "cell_type": "code",
      "metadata": {
        "id": "Nkq2ClM_ZYQ0"
      },
      "source": [
        "class DeepQNetwork(nn.Module):\n",
        "    \"\"\"\n",
        "    Deep Q Network module. \n",
        "    \n",
        "    It instantiates the class optimizer, device, and all the layers used. \n",
        "    \n",
        "    Same architecture as the one used in HW1, since that seemed to learn things!\n",
        "    \n",
        "    \n",
        "    \"\"\"\n",
        "    def __init__(self,lr,in_ch=1,n_actions=7,ch=2):\n",
        "        super(DeepQNetwork,self).__init__()\n",
        "        self.conv1 = nn.Conv2d(in_channels=in_ch,out_channels=ch*8,kernel_size=7)\n",
        "        self.conv2 = nn.Conv2d(in_channels=ch*8,out_channels=ch*16,kernel_size=3,stride=2)\n",
        "        self.conv3 = nn.Conv2d(in_channels=ch*16,out_channels=ch*16,kernel_size=7)\n",
        "        self.conv4 = nn.Conv2d(in_channels=ch*16,out_channels=ch*32,kernel_size=3,stride=2)\n",
        "        self.conv5 = nn.Conv2d(in_channels=ch*32,out_channels=ch*32,kernel_size=7)\n",
        "        self.conv6 = nn.Conv2d(in_channels=ch*32,out_channels=ch*64,kernel_size=3,stride=2)\n",
        "        self.fc1 = nn.Linear(64 * ch * 4 * 4,256)\n",
        "        self.fc2 = nn.Linear(256,n_actions)\n",
        "        self.history_length = in_ch\n",
        "        self.ch = ch\n",
        "\n",
        "        \n",
        "    def forward(self, x):\n",
        "        \n",
        "        #x = torch.Tensor(x).to(self.device) #send to GPU, and make a pytorch obj in case it isn't\n",
        "        x = x.view(-1,self.history_length,x.shape[-2],x.shape[-1]) #proper shape too, in case it wasn't \n",
        "        x = F.relu(self.conv1(x))\n",
        "        x = F.relu(self.conv2(x))\n",
        "        x = F.relu(self.conv3(x))\n",
        "        x = F.relu(self.conv4(x))\n",
        "        x = F.relu(self.conv5(x))\n",
        "        x = F.relu(self.conv6(x))\n",
        "\n",
        "        x = x.view(-1, 64 * self.ch * 4 * 4)\n",
        "        \n",
        "        x = F.relu(self.fc1(x))\n",
        "        a = self.fc2(x)\n",
        "\n",
        "        return a\n",
        "  "
      ],
      "execution_count": 6,
      "outputs": []
    },
    {
      "cell_type": "code",
      "metadata": {
        "id": "rFZHKLm_ZYQ2"
      },
      "source": [
        "# That's what all these helper functions do. \n",
        "\n",
        "def rgb2gray(rgb):\n",
        "    \"\"\" \n",
        "    converts rgb images to grayscale.\n",
        "    \"\"\"\n",
        "    gray = np.dot(rgb[...,:3], [0.2125, 0.7154, 0.0721])\n",
        "    return gray.astype('float32') \n",
        "\n",
        "def test_preprocess(state):\n",
        "    \"\"\"\n",
        "    Crop, grayscale, and standardize \n",
        "    \"\"\"\n",
        "    state = state[:-12:,6:-6]\n",
        "    state = rgb2gray(state)\n",
        "    state = state / 255\n",
        "    state = state  * 2 - 1\n",
        "    \n",
        "\n",
        "    return state\n",
        "\n",
        "\n",
        "\n",
        "def discretize(action):\n",
        "    \"\"\"\n",
        "    Discrete actions used, so far I've made it so that there are 5 unique actions, and the DQN \n",
        "    selects from these\n",
        "    \"\"\"\n",
        "    \n",
        "    if action  == 0:\n",
        "        # do nothing \n",
        "        return np.array([0,0,0])\n",
        "    if action  == 1:\n",
        "        # glide left \n",
        "        return np.array([-1,0,0])\n",
        "    if action  == 2:\n",
        "        # glide right \n",
        "        return np.array([1,0,0])\n",
        "    if action  == 3:\n",
        "        # accelerate\n",
        "        return np.array([0,1,0])\n",
        "    if action  == 4:\n",
        "        # brake\n",
        "        return np.array([0,0,1])\n",
        "    if action  == 5:\n",
        "        # turn left acc little bit\n",
        "        return np.array([-1,.5,0])\n",
        "    if action == 6:\n",
        "        # turn right acc little bit\n",
        "        return np.array([-1,.5,0])\n",
        "    if action == 7:\n",
        "        return np.array([-5,.25,0])\n",
        "    if action == 8:\n",
        "        return np.array([5,.25,0])\n",
        "    if action == 9:\n",
        "        return np.array([0,.5,0])\n",
        "\n",
        "    if action == 10:\n",
        "        return np.array([1,1,0])\n",
        "    \n",
        "    if action == 11:\n",
        "        return np.array([-1,1,0])\n",
        "\n",
        "\n",
        "\n",
        "\n",
        "\n",
        "\n",
        "def polyak_update(polyak_factor, target_network, network):\n",
        "    for target_param, param in zip(target_network.parameters(), network.parameters()):\n",
        "        target_param.data.copy_(polyak_factor*param.data + target_param.data*(1.0 - polyak_factor))\n"
      ],
      "execution_count": 7,
      "outputs": []
    },
    {
      "cell_type": "markdown",
      "metadata": {
        "id": "yBE73s9WZYQ5"
      },
      "source": [
        "# Training Loop"
      ]
    },
    {
      "cell_type": "code",
      "metadata": {
        "id": "6JywS3JNZYRC"
      },
      "source": [
        "BATCH_SIZE = 256\n",
        "GAMMA = 0.99\n",
        "EPS_START = 0.99\n",
        "EPS_END = 0.05\n",
        "EPS_DECAY = 200\n",
        "#TARGET_UPDATE = 500\n",
        "ALPHA = .00005# = 3\n",
        "CH = 2 # model capacity\n",
        "RENDER = False\n",
        "n_actions = 12 # I designate this, not the action space\n",
        "POLYAK_FACTOR = 0.01\n",
        "IN_CH = 1\n",
        "\n"
      ],
      "execution_count": 8,
      "outputs": []
    },
    {
      "cell_type": "code",
      "metadata": {
        "id": "d4kreB8MZYQ6",
        "outputId": "aed543d5-3430-41ba-cf89-d986dbbc53bb",
        "colab": {
          "base_uri": "https://localhost:8080/"
        }
      },
      "source": [
        "policy_net = DeepQNetwork(lr=ALPHA,in_ch=IN_CH,n_actions=n_actions,ch=CH).to(device)\n",
        "target_net = DeepQNetwork(lr=ALPHA,in_ch=IN_CH,n_actions=n_actions,ch=CH).to(device)\n",
        "target_net.load_state_dict(policy_net.state_dict())\n",
        "target_net.eval()\n",
        "\n",
        "try:\n",
        "    torch.load('ckpt.pt',policy_net)\n",
        "    print(\"Loaded from checkpoint\")\n",
        "except Exception as e:\n",
        "    print(e)\n",
        "    \n",
        "target_net.load_state_dict(policy_net.state_dict())\n",
        "target_net.eval()"
      ],
      "execution_count": 9,
      "outputs": [
        {
          "output_type": "stream",
          "text": [
            "[Errno 2] No such file or directory: 'ckpt.pt'\n"
          ],
          "name": "stdout"
        },
        {
          "output_type": "execute_result",
          "data": {
            "text/plain": [
              "DeepQNetwork(\n",
              "  (conv1): Conv2d(1, 16, kernel_size=(7, 7), stride=(1, 1))\n",
              "  (conv2): Conv2d(16, 32, kernel_size=(3, 3), stride=(2, 2))\n",
              "  (conv3): Conv2d(32, 32, kernel_size=(7, 7), stride=(1, 1))\n",
              "  (conv4): Conv2d(32, 64, kernel_size=(3, 3), stride=(2, 2))\n",
              "  (conv5): Conv2d(64, 64, kernel_size=(7, 7), stride=(1, 1))\n",
              "  (conv6): Conv2d(64, 128, kernel_size=(3, 3), stride=(2, 2))\n",
              "  (fc1): Linear(in_features=2048, out_features=256, bias=True)\n",
              "  (fc2): Linear(in_features=256, out_features=12, bias=True)\n",
              ")"
            ]
          },
          "metadata": {
            "tags": []
          },
          "execution_count": 9
        }
      ]
    },
    {
      "cell_type": "code",
      "metadata": {
        "id": "IDPHXPXeZYQ8"
      },
      "source": [
        "optimizer = optim.Adam(policy_net.parameters()) # what to train with\n",
        "memory = ReplayMemory(10000) # initizalize replay "
      ],
      "execution_count": 10,
      "outputs": []
    },
    {
      "cell_type": "code",
      "metadata": {
        "id": "neATUMzLZYQ_"
      },
      "source": [
        "steps_done = 0\n",
        "\n",
        "def select_action(state,greedy=False):\n",
        "    \"\"\"\n",
        "    Given an input state, chose an action either via epsilon decay, \n",
        "    or what the policy net likes\n",
        "    \"\"\"\n",
        "    global steps_done\n",
        "\n",
        "    if greedy:\n",
        "        with torch.no_grad():\n",
        "            # t.max(1) will return largest column value of each row.\n",
        "            # second column on max result is index of where max element was\n",
        "            # found, so we pick action with the larger expected reward.\n",
        "            return policy_net(state.to(device)).max(1)[1].view(1, 1)\n",
        "    sample = random.random()\n",
        "    eps_threshold = EPS_END + (EPS_START - EPS_END) * \\\n",
        "        math.exp(-1. * steps_done / EPS_DECAY)\n",
        "    steps_done += 1\n",
        "    if sample > eps_threshold:\n",
        "       # print(\"policy choice\")\n",
        "        with torch.no_grad():\n",
        "            # t.max(1) will return largest column value of each row.\n",
        "            # second column on max result is index of where max element was\n",
        "            # found, so we pick action with the larger expected reward.\n",
        "            return policy_net(state.to(device)).max(1)[1].view(1, 1)\n",
        "    else:\n",
        "       # print(\"Eps dec \")\n",
        "        return torch.tensor([[random.randrange(n_actions)]], dtype=torch.long).to(device)\n"
      ],
      "execution_count": 11,
      "outputs": []
    },
    {
      "cell_type": "code",
      "metadata": {
        "id": "J6JOZ-7sZYRA"
      },
      "source": [
        "\n",
        "\n",
        "def optimize_model():\n",
        "    \"\"\"\n",
        "    Completes a single step of the optimization. Samples a batch, computes \n",
        "    Q and r + maxQ, and takes the gradient step to bring those closer together. \n",
        "    \"\"\"\n",
        "    if len(memory) < BATCH_SIZE:\n",
        "        return\n",
        "    transitions = memory.sample(BATCH_SIZE)\n",
        "    # Transpose the batch (see https://stackoverflow.com/a/19343/3343043 for\n",
        "    # detailed explanation). This converts batch-array of Transitions\n",
        "    # to Transition of batch-arrays.\n",
        "    batch = Transition(*zip(*transitions))\n",
        "\n",
        "    # Compute a mask of non-final states and concatenate the batch elements\n",
        "    # (a final state would've been the one after which simulation ended)\n",
        "    non_final_mask = torch.tensor(tuple(map(lambda s: s is not None,\n",
        "                                          batch.next_state)), dtype=torch.bool).to(device)\n",
        "    non_final_next_states = torch.cat([s for s in batch.next_state\n",
        "                                                if s is not None]).to(device)\n",
        "    state_batch = torch.cat(batch.state).to(device)\n",
        "    action_batch = torch.cat(batch.action).to(device)\n",
        "    reward_batch = torch.cat(batch.reward).to(device)\n",
        "\n",
        "    # Compute Q(s_t, a) - the model computes Q(s_t), then we select the\n",
        "    # columns of actions taken. These are the actions which would've been taken\n",
        "    # for each batch state according to policy_net\n",
        "    state_action_values = policy_net(state_batch).gather(1, action_batch)\n",
        "\n",
        "    # Compute V(s_{t+1}) for all next states.\n",
        "    # Expected values of actions for non_final_next_states are computed based\n",
        "    # on the \"older\" target_net; selecting their best reward with max(1)[0].\n",
        "    # This is merged based on the mask, such that we'll have either the expected\n",
        "    # state value or 0 in case the state was final.\n",
        "    next_state_values = torch.zeros(BATCH_SIZE, device=device)\n",
        "    next_state_values[non_final_mask] = target_net(non_final_next_states).max(1)[0].detach()\n",
        "    # Compute the expected Q values\n",
        "    expected_state_action_values = (next_state_values * GAMMA) + reward_batch\n",
        "\n",
        "    # Compute Huber loss\n",
        "    loss = F.smooth_l1_loss(state_action_values, expected_state_action_values.unsqueeze(1))\n",
        "\n",
        "    # Optimize the model\n",
        "    optimizer.zero_grad()\n",
        "    loss.backward()\n",
        "    for param in policy_net.parameters():\n",
        "        param.grad.data.clamp_(-1, 1)\n",
        "    optimizer.step()"
      ],
      "execution_count": 14,
      "outputs": []
    },
    {
      "cell_type": "code",
      "metadata": {
        "id": "oxDJLy5RZYRF",
        "outputId": "43bbf632-ec73-4a88-ee77-3f56399ee00a",
        "colab": {
          "base_uri": "https://localhost:8080/"
        }
      },
      "source": [
        "# Now the actual training. .\n",
        "episode_durations = []\n",
        "episode_rewards = []\n",
        "\n",
        "env = wrap_env(gym.make(\"CarRacing-v0\"))\n",
        "num_episodes = 50\n",
        "best_episode = 0\n",
        "\n",
        "for i_episode in range(num_episodes):\n",
        "    state0 = -1*np.ones(shape =(84,84))\n",
        "   # state1 = -1*np.ones(shape =(84,84))\n",
        "    # Initialize the environment and state\n",
        "    episode_reward = 0\n",
        "    state1 = env.reset()\n",
        "    #state_history = []\n",
        "    state1 = test_preprocess(state1)\n",
        "   # break\n",
        "    #state_input = torch.from_numpy(np.stack([state0,state1,state2])).resize(1,3,84,84).float()\n",
        "    state_input = torch.from_numpy(state1-state0).resize(1,1,84,84).float()\n",
        "    for t in count():\n",
        "        if RENDER:\n",
        "            env.render()\n",
        "        # Select and perform an action\n",
        "        action = select_action(state_input)\n",
        "        state_, reward, done, _ = env.step(discretize(action.item()))\n",
        "        reward = torch.tensor([reward])#, device=device)\n",
        "\n",
        "        episode_reward += reward.item()\n",
        "                \n",
        "        state_ = test_preprocess(state_)\n",
        "\n",
        "        state0 = state1\n",
        "#        state1 = state2\n",
        "        state1 = state_\n",
        "        new_state_input = torch.from_numpy(state1 - state0).resize(1,1,84,84).float()\n",
        "    \n",
        "\n",
        "        # Store the transition in memory\n",
        "        memory.push(state_input, action, new_state_input, reward)\n",
        "        state_input = new_state_input\n",
        "        # Move to the next state\n",
        "       # state = next_state\n",
        "\n",
        "        # Perform one step of the optimization (on the target network)\n",
        "        optimize_model()\n",
        "        if done:\n",
        "            episode_durations.append(t + 1)\n",
        "            episode_rewards.append(episode_reward)\n",
        "            print(\"Episode \", i_episode)\n",
        "            print(\"Reward = \", episode_reward)\n",
        "            if episode_reward > best_episode:\n",
        "                best_episode = episode_reward\n",
        "                print(\"Saving new best model...\")\n",
        "                torch.save(policy_net, 'ckpt.pt')\n",
        "\n",
        "           # plot_durations()\n",
        "            break\n",
        "    # Update the target network, copying all weights and biases in DQN\n",
        "    \n",
        "    \n",
        "    polyak_update(POLYAK_FACTOR, target_net, policy_net)\n",
        "\n",
        "    #if i_episode % TARGET_UPDATE == 0:\n",
        "        #target_net.load_state_dict(policy_net.state_dict())\n",
        "\n",
        "print('Complete')\n",
        "\n"
      ],
      "execution_count": 13,
      "outputs": [
        {
          "output_type": "stream",
          "text": [
            "Track generation: 1128..1414 -> 286-tiles track\n"
          ],
          "name": "stdout"
        },
        {
          "output_type": "stream",
          "text": [
            "/usr/local/lib/python3.6/dist-packages/torch/tensor.py:358: UserWarning: non-inplace resize is deprecated\n",
            "  warnings.warn(\"non-inplace resize is deprecated\")\n"
          ],
          "name": "stderr"
        },
        {
          "output_type": "stream",
          "text": [
            "Episode  0\n",
            "Reward =  -61.40350966155529\n",
            "Track generation: 1225..1535 -> 310-tiles track\n"
          ],
          "name": "stdout"
        },
        {
          "output_type": "stream",
          "text": [
            "/usr/local/lib/python3.6/dist-packages/torch/tensor.py:358: UserWarning: non-inplace resize is deprecated\n",
            "  warnings.warn(\"non-inplace resize is deprecated\")\n"
          ],
          "name": "stderr"
        },
        {
          "output_type": "stream",
          "text": [
            "Episode  1\n",
            "Reward =  -173.94627976417542\n",
            "Track generation: 1167..1466 -> 299-tiles track\n",
            "retry to generate track (normal if there are not manyinstances of this message)\n",
            "Track generation: 1284..1609 -> 325-tiles track\n",
            "Episode  2\n",
            "Reward =  -84.56790271401405\n",
            "Track generation: 1063..1333 -> 270-tiles track\n",
            "Episode  3\n",
            "Reward =  44.981413170695305\n",
            "Saving new best model...\n",
            "Track generation: 1178..1477 -> 299-tiles track\n",
            "Episode  4\n",
            "Reward =  -83.22147837281227\n",
            "Track generation: 1104..1394 -> 290-tiles track\n",
            "Episode  5\n",
            "Reward =  -82.69896379113197\n",
            "Track generation: 1127..1415 -> 288-tiles track\n",
            "retry to generate track (normal if there are not manyinstances of this message)\n",
            "Track generation: 1289..1616 -> 327-tiles track\n",
            "Episode  6\n",
            "Reward =  -75.46012387424707\n",
            "Track generation: 1191..1493 -> 302-tiles track\n",
            "Episode  7\n",
            "Reward =  -83.38870587944984\n",
            "Track generation: 1063..1333 -> 270-tiles track\n"
          ],
          "name": "stdout"
        },
        {
          "output_type": "stream",
          "text": [
            "/usr/local/lib/python3.6/dist-packages/torch/tensor.py:358: UserWarning: non-inplace resize is deprecated\n",
            "  warnings.warn(\"non-inplace resize is deprecated\")\n"
          ],
          "name": "stderr"
        },
        {
          "output_type": "stream",
          "text": [
            "Episode  8\n",
            "Reward =  -62.82527985423803\n",
            "Track generation: 989..1248 -> 259-tiles track\n",
            "Episode  9\n",
            "Reward =  -45.736435264348984\n",
            "Track generation: 1033..1295 -> 262-tiles track\n",
            "Episode  10\n",
            "Reward =  -57.85440735518932\n",
            "Track generation: 1045..1310 -> 265-tiles track\n",
            "Episode  11\n",
            "Reward =  -69.6969707980752\n",
            "Track generation: 1092..1369 -> 277-tiles track\n",
            "Episode  12\n",
            "Reward =  -67.39130640029907\n",
            "Track generation: 1087..1364 -> 277-tiles track\n",
            "Episode  13\n",
            "Reward =  -49.27536482363939\n",
            "Track generation: 942..1186 -> 244-tiles track\n",
            "Episode  14\n",
            "Reward =  -71.1934165507555\n",
            "Track generation: 1132..1419 -> 287-tiles track\n",
            "Episode  15\n",
            "Reward =  -75.52447743713856\n",
            "Track generation: 1199..1502 -> 303-tiles track\n",
            "Episode  16\n",
            "Reward =  -70.19867715984583\n",
            "Track generation: 1334..1672 -> 338-tiles track\n",
            "Episode  17\n",
            "Reward =  -52.522255174815655\n",
            "Track generation: 1201..1505 -> 304-tiles track\n",
            "Episode  18\n",
            "Reward =  -70.29703140258789\n",
            "Track generation: 1265..1595 -> 330-tiles track\n",
            "Episode  19\n",
            "Reward =  -78.72340579330921\n",
            "Track generation: 1135..1426 -> 291-tiles track\n",
            "retry to generate track (normal if there are not manyinstances of this message)\n",
            "Track generation: 1258..1577 -> 319-tiles track\n",
            "Episode  20\n",
            "Reward =  -87.42138505727053\n",
            "Track generation: 1224..1534 -> 310-tiles track\n",
            "Episode  21\n",
            "Reward =  -61.165049977600574\n",
            "Track generation: 1241..1555 -> 314-tiles track\n",
            "Episode  22\n",
            "Reward =  -80.83067231625319\n",
            "Track generation: 1308..1644 -> 336-tiles track\n",
            "Episode  23\n",
            "Reward =  -58.20895694941282\n",
            "Track generation: 1107..1388 -> 281-tiles track\n",
            "Episode  24\n",
            "Reward =  -75.00000114738941\n",
            "Track generation: 1145..1435 -> 290-tiles track\n",
            "Episode  25\n",
            "Reward =  34.948093123734\n",
            "Track generation: 1143..1433 -> 290-tiles track\n",
            "Episode  26\n",
            "Reward =  -10.034605048596859\n",
            "Track generation: 1173..1470 -> 297-tiles track\n"
          ],
          "name": "stdout"
        },
        {
          "output_type": "stream",
          "text": [
            "/usr/local/lib/python3.6/dist-packages/torch/tensor.py:358: UserWarning: non-inplace resize is deprecated\n",
            "  warnings.warn(\"non-inplace resize is deprecated\")\n"
          ],
          "name": "stderr"
        },
        {
          "output_type": "stream",
          "text": [
            "Episode  27\n",
            "Reward =  -66.2162167057395\n",
            "Track generation: 1060..1329 -> 269-tiles track\n",
            "Episode  28\n",
            "Reward =  -44.02985109388828\n",
            "Track generation: 1290..1617 -> 327-tiles track\n",
            "Episode  29\n",
            "Reward =  -41.71779201924801\n",
            "Track generation: 1025..1288 -> 263-tiles track\n",
            "retry to generate track (normal if there are not manyinstances of this message)\n",
            "Track generation: 1140..1429 -> 289-tiles track\n",
            "Episode  30\n",
            "Reward =  -82.63889065384865\n",
            "Track generation: 1133..1429 -> 296-tiles track\n",
            "Episode  31\n",
            "Reward =  -66.10169710963964\n",
            "Track generation: 1108..1389 -> 281-tiles track\n",
            "Episode  32\n",
            "Reward =  -46.428572073578835\n",
            "Track generation: 1255..1573 -> 318-tiles track\n",
            "Episode  33\n",
            "Reward =  -43.217665039002895\n",
            "Track generation: 1036..1304 -> 268-tiles track\n",
            "Episode  34\n",
            "Reward =  -17.60299876332283\n",
            "Track generation: 1031..1293 -> 262-tiles track\n",
            "Episode  35\n",
            "Reward =  -69.34866032749414\n",
            "Track generation: 1223..1533 -> 310-tiles track\n",
            "Episode  36\n",
            "Reward =  -38.51132820546627\n",
            "Track generation: 1166..1462 -> 296-tiles track\n",
            "Episode  37\n",
            "Reward =  -76.27118845283985\n",
            "Track generation: 1061..1330 -> 269-tiles track\n",
            "Episode  38\n",
            "Reward =  -77.61194138973951\n",
            "Track generation: 1081..1355 -> 274-tiles track\n",
            "Episode  39\n",
            "Reward =  -48.71794866770506\n",
            "Track generation: 1257..1575 -> 318-tiles track\n",
            "Episode  40\n",
            "Reward =  -71.60883331298828\n",
            "Track generation: 1033..1295 -> 262-tiles track\n",
            "Episode  41\n",
            "Reward =  -19.540230877697468\n",
            "Track generation: 1096..1374 -> 278-tiles track\n",
            "Episode  42\n",
            "Reward =  -78.33935218304396\n",
            "Track generation: 1292..1619 -> 327-tiles track\n",
            "Episode  43\n",
            "Reward =  -75.46012387424707\n",
            "Track generation: 1259..1581 -> 322-tiles track\n",
            "retry to generate track (normal if there are not manyinstances of this message)\n",
            "Track generation: 1234..1547 -> 313-tiles track\n",
            "Episode  44\n",
            "Reward =  -61.53846210986376\n",
            "Track generation: 1227..1538 -> 311-tiles track\n",
            "Episode  45\n",
            "Reward =  1.9371509552001953e-06\n",
            "Track generation: 1098..1377 -> 279-tiles track\n",
            "Episode  46\n",
            "Reward =  -49.64028953760862\n",
            "Track generation: 1096..1378 -> 282-tiles track\n",
            "retry to generate track (normal if there are not manyinstances of this message)\n",
            "Track generation: 1112..1394 -> 282-tiles track\n",
            "Episode  47\n",
            "Reward =  -82.20640721917152\n",
            "Track generation: 1068..1339 -> 271-tiles track\n",
            "Episode  48\n",
            "Reward =  -59.25926046073437\n",
            "Track generation: 1148..1441 -> 293-tiles track\n",
            "retry to generate track (normal if there are not manyinstances of this message)\n",
            "Track generation: 1249..1573 -> 324-tiles track\n",
            "Episode  49\n",
            "Reward =  -28.792570762336254\n",
            "Complete\n"
          ],
          "name": "stdout"
        }
      ]
    },
    {
      "cell_type": "code",
      "metadata": {
        "id": "e0ga0TI8Qw0Y"
      },
      "source": [
        ""
      ],
      "execution_count": null,
      "outputs": []
    },
    {
      "cell_type": "code",
      "metadata": {
        "id": "ZP-OMahcSECz"
      },
      "source": [
        "import gym\n",
        "from gym import logger as gymlogger\n",
        "from gym.wrappers import Monitor\n",
        "gymlogger.set_level(40) #error only\n",
        "import tensorflow as tf\n",
        "import numpy as np\n",
        "import random\n",
        "import matplotlib\n",
        "import matplotlib.pyplot as plt\n",
        "%matplotlib inline\n",
        "import math\n",
        "import glob\n",
        "import io\n",
        "import base64\n",
        "from IPython.display import HTML\n",
        "\n",
        "from IPython import display as ipythondisplay"
      ],
      "execution_count": 15,
      "outputs": []
    },
    {
      "cell_type": "code",
      "metadata": {
        "id": "kOEV_zIyOXMn",
        "outputId": "5b976173-f654-4e1f-ea20-3f4d1d3c734d",
        "colab": {
          "base_uri": "https://localhost:8080/",
          "height": 402
        }
      },
      "source": [
        "# Testing \n",
        "\n",
        "# Render\n",
        "\n",
        "# Now the actual training. .\n",
        "env = wrap_env(gym.make(\"CarRacing-v0\"))\n",
        "\n",
        "num_episodes = 1\n",
        "test_episode_durations = []\n",
        "test_episode_rewards = []\n",
        "RENDER = True\n",
        "for i_episode in range(num_episodes):\n",
        "    state0 = -1*np.ones(shape =(84,84))\n",
        "    state1 = -1*np.ones(shape =(84,84))\n",
        "    # Initialize the environment and state\n",
        "    episode_reward = 0\n",
        "    state2 = env.reset()\n",
        "    #state_history = []\n",
        "    state2 = test_preprocess(state2)\n",
        "    state_input = torch.from_numpy(np.stack([state0,state1,state2])).resize(1,3,84,84).float()\n",
        "    \n",
        "    for t in count():\n",
        "        if RENDER:\n",
        "            env.render()\n",
        "        # Select and perform an action\n",
        "        action = select_action(state_input)\n",
        "        state_, reward, done, _ = env.step(discretize(action.item()))\n",
        "        reward = torch.tensor([reward])\n",
        "\n",
        "        episode_reward += reward.item()\n",
        "\n",
        "        \n",
        "        \n",
        "        state_ = test_preprocess(state_)\n",
        "\n",
        "        state0 = state1\n",
        "        state1 = state2\n",
        "        state2 = state_\n",
        "        new_state_input = torch.from_numpy(np.stack([state0,state1,state2])).resize(1,3,84,84).float()\n",
        "    \n",
        "\n",
        "        # Store the transition in memory\n",
        "     #   memory.push(state_input, action, new_state_input, reward)\n",
        "        state_input = new_state_input\n",
        "        # Move to the next state\n",
        "       # state = next_state\n",
        "\n",
        "        if done:\n",
        "            test_episode_durations.append(t + 1)\n",
        "            test_episode_rewards.append(episode_reward)\n",
        "            print(\"Episode \", i_episode)\n",
        "            print(\"Reward = \", episode_reward)\n",
        "           # plot_durations()\n",
        "            break\n",
        " \n",
        "\n",
        "print('Complete')\n",
        "\n",
        "\n",
        "           \n",
        "env.close()\n",
        "show_video()\n",
        "\n",
        "\n",
        "\n"
      ],
      "execution_count": 16,
      "outputs": [
        {
          "output_type": "stream",
          "text": [
            "Track generation: 1112..1394 -> 282-tiles track\n"
          ],
          "name": "stdout"
        },
        {
          "output_type": "stream",
          "text": [
            "/usr/local/lib/python3.6/dist-packages/torch/tensor.py:358: UserWarning: non-inplace resize is deprecated\n",
            "  warnings.warn(\"non-inplace resize is deprecated\")\n"
          ],
          "name": "stderr"
        },
        {
          "output_type": "error",
          "ename": "RuntimeError",
          "evalue": "ignored",
          "traceback": [
            "\u001b[0;31m---------------------------------------------------------------------------\u001b[0m",
            "\u001b[0;31mRuntimeError\u001b[0m                              Traceback (most recent call last)",
            "\u001b[0;32m<ipython-input-16-ca4723bfad72>\u001b[0m in \u001b[0;36m<module>\u001b[0;34m()\u001b[0m\n\u001b[1;32m     24\u001b[0m             \u001b[0menv\u001b[0m\u001b[0;34m.\u001b[0m\u001b[0mrender\u001b[0m\u001b[0;34m(\u001b[0m\u001b[0;34m)\u001b[0m\u001b[0;34m\u001b[0m\u001b[0;34m\u001b[0m\u001b[0m\n\u001b[1;32m     25\u001b[0m         \u001b[0;31m# Select and perform an action\u001b[0m\u001b[0;34m\u001b[0m\u001b[0;34m\u001b[0m\u001b[0;34m\u001b[0m\u001b[0m\n\u001b[0;32m---> 26\u001b[0;31m         \u001b[0maction\u001b[0m \u001b[0;34m=\u001b[0m \u001b[0mselect_action\u001b[0m\u001b[0;34m(\u001b[0m\u001b[0mstate_input\u001b[0m\u001b[0;34m)\u001b[0m\u001b[0;34m\u001b[0m\u001b[0;34m\u001b[0m\u001b[0m\n\u001b[0m\u001b[1;32m     27\u001b[0m         \u001b[0mstate_\u001b[0m\u001b[0;34m,\u001b[0m \u001b[0mreward\u001b[0m\u001b[0;34m,\u001b[0m \u001b[0mdone\u001b[0m\u001b[0;34m,\u001b[0m \u001b[0m_\u001b[0m \u001b[0;34m=\u001b[0m \u001b[0menv\u001b[0m\u001b[0;34m.\u001b[0m\u001b[0mstep\u001b[0m\u001b[0;34m(\u001b[0m\u001b[0mdiscretize\u001b[0m\u001b[0;34m(\u001b[0m\u001b[0maction\u001b[0m\u001b[0;34m.\u001b[0m\u001b[0mitem\u001b[0m\u001b[0;34m(\u001b[0m\u001b[0;34m)\u001b[0m\u001b[0;34m)\u001b[0m\u001b[0;34m)\u001b[0m\u001b[0;34m\u001b[0m\u001b[0;34m\u001b[0m\u001b[0m\n\u001b[1;32m     28\u001b[0m         \u001b[0mreward\u001b[0m \u001b[0;34m=\u001b[0m \u001b[0mtorch\u001b[0m\u001b[0;34m.\u001b[0m\u001b[0mtensor\u001b[0m\u001b[0;34m(\u001b[0m\u001b[0;34m[\u001b[0m\u001b[0mreward\u001b[0m\u001b[0;34m]\u001b[0m\u001b[0;34m)\u001b[0m\u001b[0;34m\u001b[0m\u001b[0;34m\u001b[0m\u001b[0m\n",
            "\u001b[0;32m<ipython-input-11-acf4a312d908>\u001b[0m in \u001b[0;36mselect_action\u001b[0;34m(state, greedy)\u001b[0m\n\u001b[1;32m     23\u001b[0m             \u001b[0;31m# second column on max result is index of where max element was\u001b[0m\u001b[0;34m\u001b[0m\u001b[0;34m\u001b[0m\u001b[0;34m\u001b[0m\u001b[0m\n\u001b[1;32m     24\u001b[0m             \u001b[0;31m# found, so we pick action with the larger expected reward.\u001b[0m\u001b[0;34m\u001b[0m\u001b[0;34m\u001b[0m\u001b[0;34m\u001b[0m\u001b[0m\n\u001b[0;32m---> 25\u001b[0;31m             \u001b[0;32mreturn\u001b[0m \u001b[0mpolicy_net\u001b[0m\u001b[0;34m(\u001b[0m\u001b[0mstate\u001b[0m\u001b[0;34m.\u001b[0m\u001b[0mto\u001b[0m\u001b[0;34m(\u001b[0m\u001b[0mdevice\u001b[0m\u001b[0;34m)\u001b[0m\u001b[0;34m)\u001b[0m\u001b[0;34m.\u001b[0m\u001b[0mmax\u001b[0m\u001b[0;34m(\u001b[0m\u001b[0;36m1\u001b[0m\u001b[0;34m)\u001b[0m\u001b[0;34m[\u001b[0m\u001b[0;36m1\u001b[0m\u001b[0;34m]\u001b[0m\u001b[0;34m.\u001b[0m\u001b[0mview\u001b[0m\u001b[0;34m(\u001b[0m\u001b[0;36m1\u001b[0m\u001b[0;34m,\u001b[0m \u001b[0;36m1\u001b[0m\u001b[0;34m)\u001b[0m\u001b[0;34m\u001b[0m\u001b[0;34m\u001b[0m\u001b[0m\n\u001b[0m\u001b[1;32m     26\u001b[0m     \u001b[0;32melse\u001b[0m\u001b[0;34m:\u001b[0m\u001b[0;34m\u001b[0m\u001b[0;34m\u001b[0m\u001b[0m\n\u001b[1;32m     27\u001b[0m        \u001b[0;31m# print(\"Eps dec \")\u001b[0m\u001b[0;34m\u001b[0m\u001b[0;34m\u001b[0m\u001b[0;34m\u001b[0m\u001b[0m\n",
            "\u001b[0;31mRuntimeError\u001b[0m: shape '[1, 1]' is invalid for input of size 3"
          ]
        }
      ]
    },
    {
      "cell_type": "code",
      "metadata": {
        "id": "CAj0YV62R97k"
      },
      "source": [
        "plt.imshow(state_input[0][0])"
      ],
      "execution_count": null,
      "outputs": []
    },
    {
      "cell_type": "code",
      "metadata": {
        "id": "rI14ujwlV0_q"
      },
      "source": [
        ""
      ],
      "execution_count": null,
      "outputs": []
    }
  ]
}